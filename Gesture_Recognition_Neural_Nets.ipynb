{
 "cells": [
  {
   "cell_type": "markdown",
   "metadata": {
    "id": "Vdo4maIjBEHB"
   },
   "source": [
    "# **Gesture Recognition**\n",
    "In this group project, you are going to build a 3D Conv model that will be able to predict the 5 gestures correctly. Please import the following libraries to get started."
   ]
  },
  {
   "cell_type": "code",
   "execution_count": null,
   "metadata": {
    "id": "uTVYt1T8BEHD"
   },
   "outputs": [],
   "source": [
    "import numpy as np\n",
    "import os\n",
    "#from scipy.misc import imread, imresize\n",
    "import cv2\n",
    "from cv2 import imread\n",
    "from skimage.transform import resize as imresize\n",
    "import datetime\n",
    "import os\n",
    "import abc"
   ]
  },
  {
   "cell_type": "code",
   "execution_count": null,
   "metadata": {
    "id": "aGhLeTk8VkjT"
   },
   "outputs": [],
   "source": [
    "import warnings\n",
    "warnings.filterwarnings(\"ignore\")"
   ]
  },
  {
   "cell_type": "code",
   "execution_count": null,
   "metadata": {
    "id": "1VL0iX5nYxvX"
   },
   "outputs": [],
   "source": [
    "from keras.models import Sequential, Model\n",
    "from keras.layers import Dense, GRU, Flatten, TimeDistributed, Flatten, BatchNormalization, Activation, LSTM\n",
    "from keras.layers.convolutional import Conv3D, MaxPooling3D, Conv2D,MaxPooling2D\n",
    "from keras.callbacks import ModelCheckpoint, ReduceLROnPlateau, EarlyStopping\n",
    "from keras import optimizers\n",
    "from keras.layers import Dropout"
   ]
  },
  {
   "cell_type": "markdown",
   "metadata": {
    "id": "yH-Ia_67BEHE"
   },
   "source": [
    "We set the random seed so that the results don't vary drastically."
   ]
  },
  {
   "cell_type": "code",
   "execution_count": null,
   "metadata": {
    "id": "uUUr7gITBEHE"
   },
   "outputs": [],
   "source": [
    "np.random.seed(30)\n",
    "import random as rn\n",
    "rn.seed(30)\n",
    "from keras import backend as K\n",
    "import tensorflow as tf\n",
    "#tf.set_random_seed(30)\n",
    "tf.random.set_seed(30)"
   ]
  },
  {
   "cell_type": "code",
   "execution_count": null,
   "metadata": {
    "colab": {
     "base_uri": "https://localhost:8080/"
    },
    "id": "qAYYI9v3S674",
    "outputId": "d740ab96-4878-41d9-cb1c-16531e029cea"
   },
   "outputs": [
    {
     "name": "stdout",
     "output_type": "stream",
     "text": [
      "Found GPU at: /device:GPU:0\n"
     ]
    }
   ],
   "source": [
    "device_name = tf.test.gpu_device_name()\n",
    "if \"GPU\" not in device_name:\n",
    "    print(\"GPU device not found\")\n",
    "else:\n",
    "    print('Found GPU at: {}'.format(device_name))"
   ]
  },
  {
   "cell_type": "code",
   "execution_count": null,
   "metadata": {
    "colab": {
     "base_uri": "https://localhost:8080/"
    },
    "id": "KnC3x_fid1aT",
    "outputId": "d8c5257a-1538-468e-ee48-680a8702dca1"
   },
   "outputs": [
    {
     "name": "stdout",
     "output_type": "stream",
     "text": [
      "Mon Sep 12 04:03:35 2022       \n",
      "+-----------------------------------------------------------------------------+\n",
      "| NVIDIA-SMI 460.32.03    Driver Version: 460.32.03    CUDA Version: 11.2     |\n",
      "|-------------------------------+----------------------+----------------------+\n",
      "| GPU  Name        Persistence-M| Bus-Id        Disp.A | Volatile Uncorr. ECC |\n",
      "| Fan  Temp  Perf  Pwr:Usage/Cap|         Memory-Usage | GPU-Util  Compute M. |\n",
      "|                               |                      |               MIG M. |\n",
      "|===============================+======================+======================|\n",
      "|   0  Tesla P100-PCIE...  Off  | 00000000:00:04.0 Off |                    0 |\n",
      "| N/A   59C    P0    47W / 250W |    389MiB / 16280MiB |      0%      Default |\n",
      "|                               |                      |                  N/A |\n",
      "+-------------------------------+----------------------+----------------------+\n",
      "                                                                               \n",
      "+-----------------------------------------------------------------------------+\n",
      "| Processes:                                                                  |\n",
      "|  GPU   GI   CI        PID   Type   Process name                  GPU Memory |\n",
      "|        ID   ID                                                   Usage      |\n",
      "|=============================================================================|\n",
      "+-----------------------------------------------------------------------------+\n"
     ]
    }
   ],
   "source": [
    "## Checking the GPU configuration\n",
    "!nvidia-smi"
   ]
  },
  {
   "cell_type": "markdown",
   "metadata": {
    "id": "Yb-po0jRBEHF"
   },
   "source": [
    "In this block, you read the folder names for training and validation. You also set the `batch_size` here. Note that you set the batch size in such a way that you are able to use the GPU in full capacity. You keep increasing the batch size until the machine throws an error."
   ]
  },
  {
   "cell_type": "code",
   "execution_count": null,
   "metadata": {
    "colab": {
     "base_uri": "https://localhost:8080/"
    },
    "id": "f6wnGFA0RTm6",
    "outputId": "e8cdba55-6d93-4720-c56b-5e106dcd4307"
   },
   "outputs": [
    {
     "name": "stdout",
     "output_type": "stream",
     "text": [
      "Drive already mounted at /content/gdrive; to attempt to forcibly remount, call drive.mount(\"/content/gdrive\", force_remount=True).\n"
     ]
    }
   ],
   "source": [
    "from google.colab import drive\n",
    "drive.mount('/content/gdrive')"
   ]
  },
  {
   "cell_type": "code",
   "execution_count": null,
   "metadata": {
    "id": "L5_j4VoBBEHF"
   },
   "outputs": [],
   "source": [
    "train_doc = np.random.permutation(open('/content/gdrive/My Drive/GestureRecognization/Project_data/train.csv').readlines())\n",
    "val_doc = np.random.permutation(open('/content/gdrive/My Drive/GestureRecognization/Project_data/val.csv').readlines())\n",
    "batch_size = 32 #experiment with the batch size"
   ]
  },
  {
   "cell_type": "markdown",
   "metadata": {
    "id": "pe449kGLBEHF"
   },
   "source": [
    "## Generator\n",
    "This is one of the most important part of the code. The overall structure of the generator has been given. In the generator, you are going to preprocess the images as you have images of 2 different dimensions as well as create a batch of video frames. You have to experiment with `img_idx`, `y`,`z` and normalization such that you get high accuracy."
   ]
  },
  {
   "cell_type": "code",
   "execution_count": null,
   "metadata": {
    "id": "f9t3l4IIBEHG"
   },
   "outputs": [],
   "source": [
    "class Model_Builder(metaclass= abc.ABCMeta):\n",
    "    # Set directory paths where project data exists\n",
    "    def _set_path(self, project_folder):\n",
    "        self.train_doc = np.random.permutation(open(project_folder + '/' + 'train.csv').readlines())\n",
    "        self.val_doc = np.random.permutation(open(project_folder + '/' + 'val.csv').readlines())\n",
    "        self.train_path = project_folder + '/' + 'train'\n",
    "        self.val_path =  project_folder + '/' + 'val'\n",
    "        self.num_train_sequences = len(self.train_doc)\n",
    "        self.num_val_sequences = len(self.val_doc)\n",
    "\n",
    "    # Set the image properties    \n",
    "    def _set_image_properties(self, image_height=120, image_width=120):\n",
    "        self.image_height=image_height\n",
    "        self.image_width=image_width\n",
    "        self.channels=3\n",
    "        self.num_classes=5\n",
    "        self.total_frames=30\n",
    "\n",
    "    # Set batch size, frames to sample and the no. of epochs\n",
    "    def _set_hyperparams(self, frames_to_sample=30, batch_size=20, num_epochs=20):\n",
    "        self.frames_to_sample=frames_to_sample\n",
    "        self.batch_size=batch_size\n",
    "        self.num_epochs=num_epochs\n",
    "        \n",
    "    # MOST IMPORTANT PART HERE - The generator function        \n",
    "    def generator(self, source_path, folder_list, augment=False):\n",
    "        img_idx = np.round(np.linspace(0,self.total_frames-1, self.frames_to_sample)).astype(int)\n",
    "        batch_size=self.batch_size\n",
    "        while True:\n",
    "            t = np.random.permutation(folder_list)\n",
    "            num_batches = len(t)//batch_size\n",
    "        \n",
    "            for batch in range(num_batches): \n",
    "                batch_data, batch_labels= self.one_batch_data(source_path,t,batch,batch_size,img_idx,augment)\n",
    "                yield batch_data, batch_labels \n",
    "\n",
    "            remaining_seq=len(t)%batch_size\n",
    "        \n",
    "            if (remaining_seq != 0):\n",
    "                batch_data, batch_labels= self.one_batch_data(source_path,t,num_batches,batch_size,img_idx,augment,remaining_seq)\n",
    "                yield batch_data, batch_labels \n",
    "    \n",
    "    \n",
    "    def one_batch_data(self, source_path, t, batch, batch_size, img_idx, augment, remaining_seq=0):\n",
    "        seq_len = remaining_seq if remaining_seq else batch_size\n",
    "    \n",
    "        batch_data = np.zeros((seq_len,len(img_idx),self.image_height,self.image_width,self.channels)) \n",
    "        batch_labels = np.zeros((seq_len,self.num_classes)) \n",
    "    \n",
    "        if (augment): batch_data_aug = np.zeros((seq_len,len(img_idx),self.image_height,self.image_width,self.channels))\n",
    "\n",
    "        for folder in range(seq_len): \n",
    "            imgs = os.listdir(source_path+'/'+ t[folder + (batch*batch_size)].split(';')[0]) \n",
    "            for idx,item in enumerate(img_idx):\n",
    "                #performing image reading and resizing\n",
    "                image = imread(source_path+'/'+ t[folder + (batch*batch_size)].strip().split(';')[0]+'/'+imgs[item]).astype(np.float32)\n",
    "                image_resized = imresize(image,(self.image_height,self.image_width,3))\n",
    "            \n",
    "                #normalizing the images\n",
    "                batch_data[folder,idx,:,:,0] = (image_resized[:,:,0])/255\n",
    "                batch_data[folder,idx,:,:,1] = (image_resized[:,:,1])/255\n",
    "                batch_data[folder,idx,:,:,2] = (image_resized[:,:,2])/255\n",
    "            \n",
    "                if (augment):\n",
    "                    shifted = cv2.warpAffine(image, \n",
    "                                             np.float32([[1, 0, np.random.randint(-30,30)],[0, 1, np.random.randint(-30,30)]]), \n",
    "                                            (image.shape[1], image.shape[0]))\n",
    "                    \n",
    "                    gray = cv2.cvtColor(shifted,cv2.COLOR_BGR2GRAY)\n",
    "\n",
    "                    x0, y0 = np.argwhere(gray > 0).min(axis=0)\n",
    "                    x1, y1 = np.argwhere(gray > 0).max(axis=0) \n",
    "                    # cropping the images to have the targeted gestures and remove the noise from the images.\n",
    "                    cropped=shifted[x0:x1,y0:y1,:]\n",
    "                    #Resize\n",
    "                    image_resized=imresize(cropped,(self.image_height,self.image_width,3))\n",
    "                    \n",
    "                    batch_data_aug[folder,idx,:,:,0] = (image_resized[:,:,0])/255\n",
    "                    batch_data_aug[folder,idx,:,:,1] = (image_resized[:,:,1])/255\n",
    "                    batch_data_aug[folder,idx,:,:,2] = (image_resized[:,:,2])/255\n",
    "                \n",
    "            batch_labels[folder, int(t[folder + (batch*batch_size)].strip().split(';')[2])] = 1\n",
    "            \n",
    "        if (augment):\n",
    "            batch_data=np.concatenate([batch_data,batch_data_aug])\n",
    "            batch_labels=np.concatenate([batch_labels,batch_labels])\n",
    "\n",
    "        return(batch_data,batch_labels)\n",
    "    \n",
    "    \n",
    "    def train_model(self, model, augment_data=False):\n",
    "        train_generator = self.generator(self.train_path, self.train_doc,augment=augment_data)\n",
    "        val_generator = self.generator(self.val_path, self.val_doc)\n",
    "\n",
    "        model_name = 'model_init' + '_' + str(datetime.datetime.now()).replace(' ','').replace(':','_') + '/'\n",
    "    \n",
    "        if not os.path.exists(model_name):\n",
    "            os.mkdir(model_name)\n",
    "        \n",
    "        filepath = model_name + 'model-{epoch:05d}-{loss:.5f}-{categorical_accuracy:.5f}-{val_loss:.5f}-{val_categorical_accuracy:.5f}.h5'\n",
    "\n",
    "        checkpoint = ModelCheckpoint(filepath, monitor='val_loss', verbose=1, save_best_only=True, save_weights_only=False, mode='auto', period=1)\n",
    "        LR = ReduceLROnPlateau(monitor='val_loss', factor=0.2, verbose=1, patience=4)\n",
    "        \n",
    "        earlystop = EarlyStopping(monitor=\"val_loss\", min_delta=0, patience=10, verbose=1)\n",
    "        callbacks_list = [checkpoint, LR, earlystop]\n",
    "\n",
    "        if (self.num_train_sequences%self.batch_size) == 0:\n",
    "            steps_per_epoch = int(self.num_train_sequences/self.batch_size)\n",
    "        else:\n",
    "            steps_per_epoch = (self.num_train_sequences//self.batch_size) + 1\n",
    "\n",
    "        if (self.num_val_sequences%self.batch_size) == 0:\n",
    "            validation_steps = int(self.num_val_sequences/self.batch_size)\n",
    "        else:\n",
    "            validation_steps = (self.num_val_sequences//self.batch_size) + 1\n",
    "    \n",
    "        history=model.fit_generator(train_generator, steps_per_epoch=steps_per_epoch, epochs=self.num_epochs, verbose=1, \n",
    "                            callbacks=callbacks_list, validation_data=val_generator, \n",
    "                            validation_steps=validation_steps, class_weight=None, workers=1, initial_epoch=0)\n",
    "        return history\n",
    "\n",
    "        \n",
    "    @abc.abstractmethod\n",
    "    def def_model(self):\n",
    "        pass"
   ]
  },
  {
   "cell_type": "markdown",
   "metadata": {
    "id": "cTiKWjqrBEHH"
   },
   "source": [
    "Note here that a video is represented above in the generator as (number of images, height, width, number of channels). Take this into consideration while creating the model architecture."
   ]
  },
  {
   "cell_type": "code",
   "execution_count": null,
   "metadata": {
    "colab": {
     "base_uri": "https://localhost:8080/"
    },
    "id": "hgJr3nJmBEHH",
    "outputId": "da243b66-9932-429d-a747-3ad06a9009ad"
   },
   "outputs": [
    {
     "name": "stdout",
     "output_type": "stream",
     "text": [
      "# training sequences = 663\n",
      "# validation sequences = 100\n",
      "# epochs = 10\n"
     ]
    }
   ],
   "source": [
    "curr_dt_time = datetime.datetime.now()\n",
    "train_path = '/content/gdrive/My Drive/GestureRecognization/Project_data/train'\n",
    "val_path = '/content/gdrive/My Drive/GestureRecognization/Project_data/val'\n",
    "num_train_sequences = len(train_doc)\n",
    "print('# training sequences =', num_train_sequences)\n",
    "num_val_sequences = len(val_doc)\n",
    "print('# validation sequences =', num_val_sequences)\n",
    "num_epochs = 10 # choose the number of epochs\n",
    "print ('# epochs =', num_epochs)\n",
    "project_folder='/content/gdrive/My Drive/GestureRecognization/Project_data'"
   ]
  },
  {
   "cell_type": "code",
   "execution_count": null,
   "metadata": {
    "id": "O1N9qZLgUDp_"
   },
   "outputs": [],
   "source": [
    "# function to plot the training/validation accuracies/losses.\n",
    "import matplotlib.pyplot as plt\n",
    "%matplotlib inline\n",
    "\n",
    "def plot(history):\n",
    "    fig, axes = plt.subplots(nrows=1, ncols=2, figsize=(10,5))\n",
    "    axes[0].plot(history.history['loss'])   \n",
    "    axes[0].plot(history.history['val_loss'])\n",
    "    axes[0].grid()\n",
    "    axes[0].legend(['loss','val_loss'])\n",
    "\n",
    "    axes[1].plot(history.history['categorical_accuracy'])   \n",
    "    axes[1].plot(history.history['val_categorical_accuracy'])\n",
    "    axes[1].grid()\n",
    "    axes[1].legend(['categorical_accuracy','val_categorical_accuracy'])"
   ]
  },
  {
   "cell_type": "markdown",
   "metadata": {
    "id": "odXPNqUmBEHI"
   },
   "source": [
    "## **Model**\n",
    "Here you make the model using different functionalities that Keras provides. Remember to use `Conv3D` and `MaxPooling3D` and not `Conv2D` and `Maxpooling2D` for a 3D convolution model. You would want to use `TimeDistributed` while building a Conv2D + RNN model. Also remember that the last layer is the softmax. Design the network in such a way that the model is able to give good accuracy on the least number of parameters so that it can fit in the memory of the webcam."
   ]
  },
  {
   "cell_type": "markdown",
   "metadata": {
    "id": "4gdC1BpudfIF"
   },
   "source": [
    "**Model-1: Conv3D**"
   ]
  },
  {
   "cell_type": "code",
   "execution_count": null,
   "metadata": {
    "id": "NH31NTRvTnuw"
   },
   "outputs": [],
   "source": [
    "class model1_Conv3D(Model_Builder):\n",
    "    def def_model(self):\n",
    "        model = Sequential()\n",
    "        model.add(Conv3D(16, (3, 3, 3), padding='same',\n",
    "                 input_shape=(self.frames_to_sample,self.image_height,self.image_width,self.channels)))\n",
    "        model.add(Activation('relu'))\n",
    "        model.add(BatchNormalization())\n",
    "        model.add(MaxPooling3D(pool_size=(2, 2, 2)))\n",
    "\n",
    "        model.add(Conv3D(32, (3, 3, 3), padding='same'))\n",
    "        model.add(Activation('relu'))\n",
    "        model.add(BatchNormalization())\n",
    "        model.add(MaxPooling3D(pool_size=(2, 2, 2)))\n",
    "\n",
    "        model.add(Conv3D(64, (3, 3, 3), padding='same'))\n",
    "        model.add(Activation('relu'))\n",
    "        model.add(BatchNormalization())\n",
    "        model.add(MaxPooling3D(pool_size=(2, 2, 2)))\n",
    "\n",
    "        model.add(Conv3D(128, (3, 3, 3), padding='same'))\n",
    "        model.add(Activation('relu'))\n",
    "        model.add(BatchNormalization())\n",
    "        model.add(MaxPooling3D(pool_size=(2, 2, 2)))\n",
    "\n",
    "        #Flatten Layers\n",
    "        model.add(Flatten())\n",
    "        model.add(Dense(128,activation='relu'))\n",
    "        model.add(BatchNormalization())\n",
    "        model.add(Dropout(0.25))\n",
    "\n",
    "        model.add(Dense(64,activation='relu'))\n",
    "        model.add(BatchNormalization())\n",
    "        model.add(Dropout(0.25))\n",
    "\n",
    "        #softmax layer\n",
    "        model.add(Dense(self.num_classes,activation='softmax'))\n",
    "\n",
    "        #optimizer\n",
    "        optimiser = optimizers.adam_v2.Adam()\n",
    "        model.compile(optimizer=optimiser, loss='categorical_crossentropy', metrics=['categorical_accuracy'])\n",
    "        return model"
   ]
  },
  {
   "cell_type": "code",
   "execution_count": null,
   "metadata": {
    "colab": {
     "base_uri": "https://localhost:8080/"
    },
    "id": "HnS0dyt6BEHK",
    "outputId": "fe769a29-7d12-48d4-d6fb-83b1be8ffdab"
   },
   "outputs": [
    {
     "name": "stdout",
     "output_type": "stream",
     "text": [
      "Model: \"sequential\"\n",
      "_________________________________________________________________\n",
      " Layer (type)                Output Shape              Param #   \n",
      "=================================================================\n",
      " conv3d (Conv3D)             (None, 30, 128, 128, 16)  1312      \n",
      "                                                                 \n",
      " activation (Activation)     (None, 30, 128, 128, 16)  0         \n",
      "                                                                 \n",
      " batch_normalization (BatchN  (None, 30, 128, 128, 16)  64       \n",
      " ormalization)                                                   \n",
      "                                                                 \n",
      " max_pooling3d (MaxPooling3D  (None, 15, 64, 64, 16)   0         \n",
      " )                                                               \n",
      "                                                                 \n",
      " conv3d_1 (Conv3D)           (None, 15, 64, 64, 32)    13856     \n",
      "                                                                 \n",
      " activation_1 (Activation)   (None, 15, 64, 64, 32)    0         \n",
      "                                                                 \n",
      " batch_normalization_1 (Batc  (None, 15, 64, 64, 32)   128       \n",
      " hNormalization)                                                 \n",
      "                                                                 \n",
      " max_pooling3d_1 (MaxPooling  (None, 7, 32, 32, 32)    0         \n",
      " 3D)                                                             \n",
      "                                                                 \n",
      " conv3d_2 (Conv3D)           (None, 7, 32, 32, 64)     55360     \n",
      "                                                                 \n",
      " activation_2 (Activation)   (None, 7, 32, 32, 64)     0         \n",
      "                                                                 \n",
      " batch_normalization_2 (Batc  (None, 7, 32, 32, 64)    256       \n",
      " hNormalization)                                                 \n",
      "                                                                 \n",
      " max_pooling3d_2 (MaxPooling  (None, 3, 16, 16, 64)    0         \n",
      " 3D)                                                             \n",
      "                                                                 \n",
      " conv3d_3 (Conv3D)           (None, 3, 16, 16, 128)    221312    \n",
      "                                                                 \n",
      " activation_3 (Activation)   (None, 3, 16, 16, 128)    0         \n",
      "                                                                 \n",
      " batch_normalization_3 (Batc  (None, 3, 16, 16, 128)   512       \n",
      " hNormalization)                                                 \n",
      "                                                                 \n",
      " max_pooling3d_3 (MaxPooling  (None, 1, 8, 8, 128)     0         \n",
      " 3D)                                                             \n",
      "                                                                 \n",
      " flatten (Flatten)           (None, 8192)              0         \n",
      "                                                                 \n",
      " dense (Dense)               (None, 128)               1048704   \n",
      "                                                                 \n",
      " batch_normalization_4 (Batc  (None, 128)              512       \n",
      " hNormalization)                                                 \n",
      "                                                                 \n",
      " dropout (Dropout)           (None, 128)               0         \n",
      "                                                                 \n",
      " dense_1 (Dense)             (None, 64)                8256      \n",
      "                                                                 \n",
      " batch_normalization_5 (Batc  (None, 64)               256       \n",
      " hNormalization)                                                 \n",
      "                                                                 \n",
      " dropout_1 (Dropout)         (None, 64)                0         \n",
      "                                                                 \n",
      " dense_2 (Dense)             (None, 5)                 325       \n",
      "                                                                 \n",
      "=================================================================\n",
      "Total params: 1,350,853\n",
      "Trainable params: 1,349,989\n",
      "Non-trainable params: 864\n",
      "_________________________________________________________________\n"
     ]
    }
   ],
   "source": [
    "m1_conv_3d=model1_Conv3D()\n",
    "m1_conv_3d._set_path(project_folder)\n",
    "m1_conv_3d._set_image_properties(image_height=128,image_width=128)\n",
    "m1_conv_3d._set_hyperparams(frames_to_sample=30,batch_size=20,num_epochs=10)\n",
    "model_conv_3d1=m1_conv_3d.def_model()\n",
    "model_conv_3d1.summary()"
   ]
  },
  {
   "cell_type": "markdown",
   "metadata": {
    "id": "Y-at62afdOOj"
   },
   "source": [
    "**Sample Cropping**"
   ]
  },
  {
   "cell_type": "code",
   "execution_count": null,
   "metadata": {
    "colab": {
     "base_uri": "https://localhost:8080/",
     "height": 220
    },
    "id": "7W1kTH4bc5nk",
    "outputId": "ef645ce2-aa31-4131-cf6e-bd039fa1bd30"
   },
   "outputs": [
    {
     "data": {
      "text/plain": [
       "<matplotlib.image.AxesImage at 0x7f6e3e0704d0>"
      ]
     },
     "execution_count": 14,
     "metadata": {},
     "output_type": "execute_result"
    },
    {
     "data": {
      "image/png": "[encoded data removed]",
      "text/plain": [
       "<Figure size 432x288 with 2 Axes>"
      ]
     },
     "metadata": {
      "needs_background": "light"
     },
     "output_type": "display_data"
    }
   ],
   "source": [
    "test_generator=model1_Conv3D()\n",
    "test_generator._set_path(project_folder)\n",
    "test_generator._set_image_properties(image_height=128,image_width=128)\n",
    "test_generator._set_hyperparams(frames_to_sample=30,batch_size=3,num_epochs=1)\n",
    "\n",
    "g=test_generator.generator(test_generator.val_path,test_generator.val_doc,augment=True)\n",
    "batch_data, batch_labels=next(g)\n",
    "fig, axes = plt.subplots(nrows=1, ncols=2)\n",
    "axes[0].imshow(batch_data[0,15,:,:,:])   \n",
    "axes[1].imshow(batch_data[3,15,:,:,:])  "
   ]
  },
  {
   "cell_type": "markdown",
   "metadata": {
    "id": "jMSNP4iMdV_V"
   },
   "source": [
    "Train model"
   ]
  },
  {
   "cell_type": "code",
   "execution_count": null,
   "metadata": {
    "colab": {
     "base_uri": "https://localhost:8080/"
    },
    "id": "MNntW8njcNOo",
    "outputId": "754ed5bf-cea4-4b94-9114-9c40b580b9fe"
   },
   "outputs": [
    {
     "name": "stderr",
     "output_type": "stream",
     "text": [
      "WARNING:tensorflow:`period` argument is deprecated. Please use `save_freq` to specify the frequency in number of batches seen.\n"
     ]
    },
    {
     "name": "stdout",
     "output_type": "stream",
     "text": [
      "Epoch 1/10\n",
      "34/34 [==============================] - ETA: 0s - loss: 1.4784 - categorical_accuracy: 0.4434\n",
      "Epoch 1: val_loss improved from inf to 3.29012, saving model to model_init_2022-09-1110_01_42.369271/model-00001-1.47841-0.44344-3.29012-0.22000.h5\n",
      "34/34 [==============================] - 280s 8s/step - loss: 1.4784 - categorical_accuracy: 0.4434 - val_loss: 3.2901 - val_categorical_accuracy: 0.2200 - lr: 0.0010\n",
      "Epoch 2/10\n",
      "34/34 [==============================] - ETA: 0s - loss: 0.8470 - categorical_accuracy: 0.6712\n",
      "Epoch 2: val_loss did not improve from 3.29012\n",
      "34/34 [==============================] - 273s 8s/step - loss: 0.8470 - categorical_accuracy: 0.6712 - val_loss: 5.3005 - val_categorical_accuracy: 0.2200 - lr: 0.0010\n",
      "Epoch 3/10\n",
      "34/34 [==============================] - ETA: 0s - loss: 0.5397 - categorical_accuracy: 0.8024\n",
      "Epoch 3: val_loss did not improve from 3.29012\n",
      "34/34 [==============================] - 263s 8s/step - loss: 0.5397 - categorical_accuracy: 0.8024 - val_loss: 4.4646 - val_categorical_accuracy: 0.2400 - lr: 0.0010\n",
      "Epoch 4/10\n",
      "34/34 [==============================] - ETA: 0s - loss: 0.3969 - categorical_accuracy: 0.8522\n",
      "Epoch 4: val_loss did not improve from 3.29012\n",
      "34/34 [==============================] - 264s 8s/step - loss: 0.3969 - categorical_accuracy: 0.8522 - val_loss: 5.4629 - val_categorical_accuracy: 0.2700 - lr: 0.0010\n",
      "Epoch 5/10\n",
      "34/34 [==============================] - ETA: 0s - loss: 0.3760 - categorical_accuracy: 0.8612\n",
      "Epoch 5: val_loss did not improve from 3.29012\n",
      "\n",
      "Epoch 5: ReduceLROnPlateau reducing learning rate to 0.00020000000949949026.\n",
      "34/34 [==============================] - 260s 8s/step - loss: 0.3760 - categorical_accuracy: 0.8612 - val_loss: 3.7201 - val_categorical_accuracy: 0.3100 - lr: 0.0010\n",
      "Epoch 6/10\n",
      "34/34 [==============================] - ETA: 0s - loss: 0.2528 - categorical_accuracy: 0.9201\n",
      "Epoch 6: val_loss did not improve from 3.29012\n",
      "34/34 [==============================] - 264s 8s/step - loss: 0.2528 - categorical_accuracy: 0.9201 - val_loss: 4.1496 - val_categorical_accuracy: 0.1900 - lr: 2.0000e-04\n",
      "Epoch 7/10\n",
      "34/34 [==============================] - ETA: 0s - loss: 0.2015 - categorical_accuracy: 0.9427\n",
      "Epoch 7: val_loss did not improve from 3.29012\n",
      "34/34 [==============================] - 265s 8s/step - loss: 0.2015 - categorical_accuracy: 0.9427 - val_loss: 3.8951 - val_categorical_accuracy: 0.3100 - lr: 2.0000e-04\n",
      "Epoch 8/10\n",
      "34/34 [==============================] - ETA: 0s - loss: 0.1954 - categorical_accuracy: 0.9427\n",
      "Epoch 8: val_loss did not improve from 3.29012\n",
      "34/34 [==============================] - 269s 8s/step - loss: 0.1954 - categorical_accuracy: 0.9427 - val_loss: 3.6872 - val_categorical_accuracy: 0.3400 - lr: 2.0000e-04\n",
      "Epoch 9/10\n",
      "34/34 [==============================] - ETA: 0s - loss: 0.1566 - categorical_accuracy: 0.9563\n",
      "Epoch 9: val_loss did not improve from 3.29012\n",
      "\n",
      "Epoch 9: ReduceLROnPlateau reducing learning rate to 4.0000001899898055e-05.\n",
      "34/34 [==============================] - 258s 8s/step - loss: 0.1566 - categorical_accuracy: 0.9563 - val_loss: 3.7893 - val_categorical_accuracy: 0.3100 - lr: 2.0000e-04\n",
      "Epoch 10/10\n",
      "34/34 [==============================] - ETA: 0s - loss: 0.1217 - categorical_accuracy: 0.9744\n",
      "Epoch 10: val_loss did not improve from 3.29012\n",
      "34/34 [==============================] - 266s 8s/step - loss: 0.1217 - categorical_accuracy: 0.9744 - val_loss: 3.5676 - val_categorical_accuracy: 0.3100 - lr: 4.0000e-05\n"
     ]
    }
   ],
   "source": [
    "history_m1 = m1_conv_3d.train_model(model_conv_3d1)"
   ]
  },
  {
   "cell_type": "markdown",
   "metadata": {
    "id": "uk6lA_fwdYYs"
   },
   "source": [
    "Plot results"
   ]
  },
  {
   "cell_type": "code",
   "execution_count": null,
   "metadata": {
    "colab": {
     "base_uri": "https://localhost:8080/",
     "height": 320
    },
    "id": "tTCz8X4XcNRG",
    "outputId": "f5e535f2-020c-47b9-bcfe-4e933fcc29a4"
   },
   "outputs": [
    {
     "data": {
      "image/png": "[encoded data removed]",
      "text/plain": [
       "<Figure size 720x360 with 2 Axes>"
      ]
     },
     "metadata": {
      "needs_background": "light"
     },
     "output_type": "display_data"
    }
   ],
   "source": [
    "plot(history_m1)"
   ]
  },
  {
   "cell_type": "markdown",
   "metadata": {
    "id": "xbyQw9lJNKp3"
   },
   "source": [
    "**Observation:**\n",
    "The model is clearly overfitting."
   ]
  },
  {
   "cell_type": "markdown",
   "metadata": {
    "id": "JH-KSgcaxqc_"
   },
   "source": [
    "**Model-2: Conv3D**"
   ]
  },
  {
   "cell_type": "markdown",
   "metadata": {
    "id": "v6nxxWWQ2Due"
   },
   "source": [
    "Increased dense neurons & dropout rate, Increased dropout to 0.5, reduced batch, and set the image Augmention to True"
   ]
  },
  {
   "cell_type": "code",
   "execution_count": null,
   "metadata": {
    "id": "2tzjYeZocNTX"
   },
   "outputs": [],
   "source": [
    "class model2_Conv3D(Model_Builder):\n",
    "    def def_model(self):\n",
    "        model = Sequential()\n",
    "        model.add(Conv3D(16, (3, 3, 3), padding='same',\n",
    "                 input_shape=(self.frames_to_sample,self.image_height,self.image_width,self.channels)))\n",
    "        model.add(Activation('relu'))\n",
    "        model.add(BatchNormalization())\n",
    "        model.add(MaxPooling3D(pool_size=(2, 2, 2)))\n",
    "\n",
    "        model.add(Conv3D(32, (2, 2, 2), padding='same'))\n",
    "        model.add(Activation('relu'))\n",
    "        model.add(BatchNormalization())\n",
    "        model.add(MaxPooling3D(pool_size=(2, 2, 2)))\n",
    "\n",
    "        model.add(Conv3D(64, (2, 2, 2), padding='same'))\n",
    "        model.add(Activation('relu'))\n",
    "        model.add(BatchNormalization())\n",
    "        model.add(MaxPooling3D(pool_size=(2, 2, 2)))\n",
    "\n",
    "        model.add(Conv3D(128, (2, 2, 2), padding='same'))\n",
    "        model.add(Activation('relu'))\n",
    "        model.add(BatchNormalization())\n",
    "        model.add(MaxPooling3D(pool_size=(2, 2, 2)))\n",
    "\n",
    "        model.add(Flatten())\n",
    "        model.add(Dense(256,activation='relu'))\n",
    "        model.add(BatchNormalization())\n",
    "        model.add(Dropout(0.5))\n",
    "\n",
    "        model.add(Dense(128,activation='relu'))\n",
    "        model.add(BatchNormalization())\n",
    "        model.add(Dropout(0.5))\n",
    "\n",
    "\n",
    "        model.add(Dense(self.num_classes,activation='softmax'))\n",
    "\n",
    "        optimiser = optimizers.adam_v2.Adam()\n",
    "        model.compile(optimizer=optimiser, loss='categorical_crossentropy', metrics=['categorical_accuracy'])\n",
    "        return model"
   ]
  },
  {
   "cell_type": "code",
   "execution_count": null,
   "metadata": {
    "colab": {
     "base_uri": "https://localhost:8080/"
    },
    "id": "2G3cgzkddt6r",
    "outputId": "f071e5db-f35a-48a8-d5ef-b4f89b388802"
   },
   "outputs": [
    {
     "name": "stdout",
     "output_type": "stream",
     "text": [
      "Model: \"sequential_1\"\n",
      "_________________________________________________________________\n",
      " Layer (type)                Output Shape              Param #   \n",
      "=================================================================\n",
      " conv3d_4 (Conv3D)           (None, 30, 128, 128, 16)  1312      \n",
      "                                                                 \n",
      " activation_4 (Activation)   (None, 30, 128, 128, 16)  0         \n",
      "                                                                 \n",
      " batch_normalization_6 (Batc  (None, 30, 128, 128, 16)  64       \n",
      " hNormalization)                                                 \n",
      "                                                                 \n",
      " max_pooling3d_4 (MaxPooling  (None, 15, 64, 64, 16)   0         \n",
      " 3D)                                                             \n",
      "                                                                 \n",
      " conv3d_5 (Conv3D)           (None, 15, 64, 64, 32)    4128      \n",
      "                                                                 \n",
      " activation_5 (Activation)   (None, 15, 64, 64, 32)    0         \n",
      "                                                                 \n",
      " batch_normalization_7 (Batc  (None, 15, 64, 64, 32)   128       \n",
      " hNormalization)                                                 \n",
      "                                                                 \n",
      " max_pooling3d_5 (MaxPooling  (None, 7, 32, 32, 32)    0         \n",
      " 3D)                                                             \n",
      "                                                                 \n",
      " conv3d_6 (Conv3D)           (None, 7, 32, 32, 64)     16448     \n",
      "                                                                 \n",
      " activation_6 (Activation)   (None, 7, 32, 32, 64)     0         \n",
      "                                                                 \n",
      " batch_normalization_8 (Batc  (None, 7, 32, 32, 64)    256       \n",
      " hNormalization)                                                 \n",
      "                                                                 \n",
      " max_pooling3d_6 (MaxPooling  (None, 3, 16, 16, 64)    0         \n",
      " 3D)                                                             \n",
      "                                                                 \n",
      " conv3d_7 (Conv3D)           (None, 3, 16, 16, 128)    65664     \n",
      "                                                                 \n",
      " activation_7 (Activation)   (None, 3, 16, 16, 128)    0         \n",
      "                                                                 \n",
      " batch_normalization_9 (Batc  (None, 3, 16, 16, 128)   512       \n",
      " hNormalization)                                                 \n",
      "                                                                 \n",
      " max_pooling3d_7 (MaxPooling  (None, 1, 8, 8, 128)     0         \n",
      " 3D)                                                             \n",
      "                                                                 \n",
      " flatten_1 (Flatten)         (None, 8192)              0         \n",
      "                                                                 \n",
      " dense_3 (Dense)             (None, 256)               2097408   \n",
      "                                                                 \n",
      " batch_normalization_10 (Bat  (None, 256)              1024      \n",
      " chNormalization)                                                \n",
      "                                                                 \n",
      " dropout_2 (Dropout)         (None, 256)               0         \n",
      "                                                                 \n",
      " dense_4 (Dense)             (None, 128)               32896     \n",
      "                                                                 \n",
      " batch_normalization_11 (Bat  (None, 128)              512       \n",
      " chNormalization)                                                \n",
      "                                                                 \n",
      " dropout_3 (Dropout)         (None, 128)               0         \n",
      "                                                                 \n",
      " dense_5 (Dense)             (None, 5)                 645       \n",
      "                                                                 \n",
      "=================================================================\n",
      "Total params: 2,220,997\n",
      "Trainable params: 2,219,749\n",
      "Non-trainable params: 1,248\n",
      "_________________________________________________________________\n"
     ]
    }
   ],
   "source": [
    "m2_conv_3d=model2_Conv3D()\n",
    "m2_conv_3d._set_path(project_folder)\n",
    "m2_conv_3d._set_image_properties(image_height=128,image_width=128)\n",
    "m2_conv_3d._set_hyperparams(frames_to_sample=30,batch_size=10,num_epochs=20)\n",
    "model_conv3d2=m2_conv_3d.def_model()\n",
    "model_conv3d2.summary()"
   ]
  },
  {
   "cell_type": "code",
   "execution_count": null,
   "metadata": {
    "colab": {
     "base_uri": "https://localhost:8080/"
    },
    "id": "qvOAdgLAjv1X",
    "outputId": "dd1f1653-85e5-4e18-f8b0-25eeeb518aa8",
    "scrolled": false
   },
   "outputs": [
    {
     "name": "stderr",
     "output_type": "stream",
     "text": [
      "WARNING:tensorflow:`period` argument is deprecated. Please use `save_freq` to specify the frequency in number of batches seen.\n"
     ]
    },
    {
     "name": "stdout",
     "output_type": "stream",
     "text": [
      "Epoch 1/20\n",
      "67/67 [==============================] - ETA: 0s - loss: 1.9374 - categorical_accuracy: 0.3643\n",
      "Epoch 1: val_loss improved from inf to 6.02109, saving model to model_init_2022-09-1110_47_33.434905/model-00001-1.93737-0.36425-6.02109-0.16000.h5\n",
      "67/67 [==============================] - 436s 7s/step - loss: 1.9374 - categorical_accuracy: 0.3643 - val_loss: 6.0211 - val_categorical_accuracy: 0.1600 - lr: 0.0010\n",
      "Epoch 2/20\n",
      "67/67 [==============================] - ETA: 0s - loss: 1.3015 - categorical_accuracy: 0.5498\n",
      "Epoch 2: val_loss did not improve from 6.02109\n",
      "67/67 [==============================] - 424s 6s/step - loss: 1.3015 - categorical_accuracy: 0.5498 - val_loss: 7.5836 - val_categorical_accuracy: 0.1900 - lr: 0.0010\n",
      "Epoch 3/20\n",
      "67/67 [==============================] - ETA: 0s - loss: 1.0333 - categorical_accuracy: 0.6161\n",
      "Epoch 3: val_loss did not improve from 6.02109\n",
      "67/67 [==============================] - 427s 6s/step - loss: 1.0333 - categorical_accuracy: 0.6161 - val_loss: 7.9735 - val_categorical_accuracy: 0.1900 - lr: 0.0010\n",
      "Epoch 4/20\n",
      "67/67 [==============================] - ETA: 0s - loss: 0.8390 - categorical_accuracy: 0.6968\n",
      "Epoch 4: val_loss did not improve from 6.02109\n",
      "67/67 [==============================] - 417s 6s/step - loss: 0.8390 - categorical_accuracy: 0.6968 - val_loss: 6.3231 - val_categorical_accuracy: 0.3600 - lr: 0.0010\n",
      "Epoch 5/20\n",
      "67/67 [==============================] - ETA: 0s - loss: 0.7232 - categorical_accuracy: 0.7406\n",
      "Epoch 5: val_loss improved from 6.02109 to 4.01878, saving model to model_init_2022-09-1110_47_33.434905/model-00005-0.72319-0.74057-4.01878-0.24000.h5\n",
      "67/67 [==============================] - 423s 6s/step - loss: 0.7232 - categorical_accuracy: 0.7406 - val_loss: 4.0188 - val_categorical_accuracy: 0.2400 - lr: 0.0010\n",
      "Epoch 6/20\n",
      "67/67 [==============================] - ETA: 0s - loss: 0.6697 - categorical_accuracy: 0.7753\n",
      "Epoch 6: val_loss did not improve from 4.01878\n",
      "67/67 [==============================] - 419s 6s/step - loss: 0.6697 - categorical_accuracy: 0.7753 - val_loss: 4.5225 - val_categorical_accuracy: 0.3300 - lr: 0.0010\n",
      "Epoch 7/20\n",
      "67/67 [==============================] - ETA: 0s - loss: 0.5344 - categorical_accuracy: 0.7986\n",
      "Epoch 7: val_loss improved from 4.01878 to 2.52594, saving model to model_init_2022-09-1110_47_33.434905/model-00007-0.53445-0.79864-2.52594-0.38000.h5\n",
      "67/67 [==============================] - 418s 6s/step - loss: 0.5344 - categorical_accuracy: 0.7986 - val_loss: 2.5259 - val_categorical_accuracy: 0.3800 - lr: 0.0010\n",
      "Epoch 8/20\n",
      "67/67 [==============================] - ETA: 0s - loss: 0.5128 - categorical_accuracy: 0.8145\n",
      "Epoch 8: val_loss improved from 2.52594 to 1.42831, saving model to model_init_2022-09-1110_47_33.434905/model-00008-0.51275-0.81448-1.42831-0.51000.h5\n",
      "67/67 [==============================] - 416s 6s/step - loss: 0.5128 - categorical_accuracy: 0.8145 - val_loss: 1.4283 - val_categorical_accuracy: 0.5100 - lr: 0.0010\n",
      "Epoch 9/20\n",
      "67/67 [==============================] - ETA: 0s - loss: 0.4255 - categorical_accuracy: 0.8469\n",
      "Epoch 9: val_loss improved from 1.42831 to 0.45996, saving model to model_init_2022-09-1110_47_33.434905/model-00009-0.42547-0.84691-0.45996-0.81000.h5\n",
      "67/67 [==============================] - 426s 6s/step - loss: 0.4255 - categorical_accuracy: 0.8469 - val_loss: 0.4600 - val_categorical_accuracy: 0.8100 - lr: 0.0010\n",
      "Epoch 10/20\n",
      "67/67 [==============================] - ETA: 0s - loss: 0.3641 - categorical_accuracy: 0.8741 \n",
      "Epoch 10: val_loss did not improve from 0.45996\n",
      "67/67 [==============================] - 3719s 56s/step - loss: 0.3641 - categorical_accuracy: 0.8741 - val_loss: 1.3857 - val_categorical_accuracy: 0.5500 - lr: 0.0010\n",
      "Epoch 11/20\n",
      "67/67 [==============================] - ETA: 0s - loss: 0.3473 - categorical_accuracy: 0.8756\n",
      "Epoch 11: val_loss improved from 0.45996 to 0.30341, saving model to model_init_2022-09-1110_47_33.434905/model-00011-0.34728-0.87557-0.30341-0.88000.h5\n",
      "67/67 [==============================] - 425s 6s/step - loss: 0.3473 - categorical_accuracy: 0.8756 - val_loss: 0.3034 - val_categorical_accuracy: 0.8800 - lr: 0.0010\n",
      "Epoch 12/20\n",
      "67/67 [==============================] - ETA: 0s - loss: 0.3698 - categorical_accuracy: 0.8665\n",
      "Epoch 12: val_loss did not improve from 0.30341\n",
      "67/67 [==============================] - 421s 6s/step - loss: 0.3698 - categorical_accuracy: 0.8665 - val_loss: 0.4677 - val_categorical_accuracy: 0.8400 - lr: 0.0010\n",
      "Epoch 13/20\n",
      "67/67 [==============================] - ETA: 0s - loss: 0.3215 - categorical_accuracy: 0.8831\n",
      "Epoch 13: val_loss improved from 0.30341 to 0.23539, saving model to model_init_2022-09-1110_47_33.434905/model-00013-0.32148-0.88311-0.23539-0.93000.h5\n",
      "67/67 [==============================] - 427s 6s/step - loss: 0.3215 - categorical_accuracy: 0.8831 - val_loss: 0.2354 - val_categorical_accuracy: 0.9300 - lr: 0.0010\n",
      "Epoch 14/20\n",
      "67/67 [==============================] - ETA: 0s - loss: 0.2671 - categorical_accuracy: 0.8959\n",
      "Epoch 14: val_loss did not improve from 0.23539\n",
      "67/67 [==============================] - 428s 6s/step - loss: 0.2671 - categorical_accuracy: 0.8959 - val_loss: 0.3243 - val_categorical_accuracy: 0.8400 - lr: 0.0010\n",
      "Epoch 15/20\n",
      "67/67 [==============================] - ETA: 0s - loss: 0.2342 - categorical_accuracy: 0.9178\n",
      "Epoch 15: val_loss did not improve from 0.23539\n",
      "67/67 [==============================] - 418s 6s/step - loss: 0.2342 - categorical_accuracy: 0.9178 - val_loss: 0.8949 - val_categorical_accuracy: 0.6900 - lr: 0.0010\n",
      "Epoch 16/20\n",
      "67/67 [==============================] - ETA: 0s - loss: 0.2770 - categorical_accuracy: 0.8944\n",
      "Epoch 16: val_loss did not improve from 0.23539\n",
      "67/67 [==============================] - 415s 6s/step - loss: 0.2770 - categorical_accuracy: 0.8944 - val_loss: 0.2865 - val_categorical_accuracy: 0.9100 - lr: 0.0010\n",
      "Epoch 17/20\n",
      "67/67 [==============================] - ETA: 0s - loss: 0.2575 - categorical_accuracy: 0.9050\n",
      "Epoch 17: val_loss did not improve from 0.23539\n",
      "\n",
      "Epoch 17: ReduceLROnPlateau reducing learning rate to 0.00020000000949949026.\n",
      "67/67 [==============================] - 430s 7s/step - loss: 0.2575 - categorical_accuracy: 0.9050 - val_loss: 0.3758 - val_categorical_accuracy: 0.9000 - lr: 0.0010\n",
      "Epoch 18/20\n",
      "67/67 [==============================] - ETA: 0s - loss: 0.1653 - categorical_accuracy: 0.9427\n",
      "Epoch 18: val_loss improved from 0.23539 to 0.10820, saving model to model_init_2022-09-1110_47_33.434905/model-00018-0.16526-0.94268-0.10820-0.97000.h5\n",
      "67/67 [==============================] - 421s 6s/step - loss: 0.1653 - categorical_accuracy: 0.9427 - val_loss: 0.1082 - val_categorical_accuracy: 0.9700 - lr: 2.0000e-04\n",
      "Epoch 19/20\n",
      "67/67 [==============================] - ETA: 0s - loss: 0.1821 - categorical_accuracy: 0.9344\n",
      "Epoch 19: val_loss did not improve from 0.10820\n",
      "67/67 [==============================] - 428s 6s/step - loss: 0.1821 - categorical_accuracy: 0.9344 - val_loss: 0.2410 - val_categorical_accuracy: 0.9200 - lr: 2.0000e-04\n",
      "Epoch 20/20\n",
      "67/67 [==============================] - ETA: 0s - loss: 0.1875 - categorical_accuracy: 0.9442\n",
      "Epoch 20: val_loss did not improve from 0.10820\n",
      "67/67 [==============================] - 421s 6s/step - loss: 0.1875 - categorical_accuracy: 0.9442 - val_loss: 0.1370 - val_categorical_accuracy: 0.9600 - lr: 2.0000e-04\n"
     ]
    }
   ],
   "source": [
    "history_m2 = m2_conv_3d.train_model(model_conv3d2, augment_data=True)"
   ]
  },
  {
   "cell_type": "code",
   "execution_count": null,
   "metadata": {
    "colab": {
     "base_uri": "https://localhost:8080/",
     "height": 320
    },
    "id": "CfTat4NEdt9D",
    "outputId": "ec0fc699-b08c-4088-ff2c-8bb287a61780"
   },
   "outputs": [
    {
     "data": {
      "image/png": "[encoded data removed]",
      "text/plain": [
       "<Figure size 720x360 with 2 Axes>"
      ]
     },
     "metadata": {
      "needs_background": "light"
     },
     "output_type": "display_data"
    }
   ],
   "source": [
    "plot(history_m2)"
   ]
  },
  {
   "cell_type": "markdown",
   "metadata": {
    "id": "OdzbfEaC5JF-"
   },
   "source": [
    "**Observation:**\n",
    "The model was produced the decent results. Training accuracy is 0.89 and validation accuracy 0.84"
   ]
  },
  {
   "cell_type": "markdown",
   "metadata": {
    "id": "SShChjULy9dW"
   },
   "source": [
    "**Model-3: Conv3D**"
   ]
  },
  {
   "cell_type": "markdown",
   "metadata": {
    "id": "rZJNksXY5Hoq"
   },
   "source": [
    "Increased number of filters in all layers and increased dense neurons, and used Image augmentation"
   ]
  },
  {
   "cell_type": "code",
   "execution_count": null,
   "metadata": {
    "id": "zzjI6-QRy7xy"
   },
   "outputs": [],
   "source": [
    "class model3_Conv3D(Model_Builder):\n",
    "    def def_model(self):\n",
    "        model = Sequential()\n",
    "        model.add(Conv3D(32, (3, 3, 3), padding='same',\n",
    "                 input_shape=(self.frames_to_sample,self.image_height,self.image_width,self.channels)))\n",
    "        model.add(Activation('relu'))\n",
    "        model.add(BatchNormalization())\n",
    "        model.add(MaxPooling3D(pool_size=(2, 2, 2)))\n",
    "\n",
    "        model.add(Conv3D(64, (3, 3, 3), padding='same'))\n",
    "        model.add(Activation('relu'))\n",
    "        model.add(BatchNormalization())\n",
    "        model.add(MaxPooling3D(pool_size=(2, 2, 2)))\n",
    "\n",
    "        model.add(Conv3D(128, (2, 2, 2), padding='same'))\n",
    "        model.add(Activation('relu'))\n",
    "        model.add(BatchNormalization())\n",
    "        model.add(MaxPooling3D(pool_size=(2, 2, 2)))\n",
    "\n",
    "        model.add(Conv3D(256, (2, 2, 2), padding='same'))\n",
    "        model.add(Activation('relu'))\n",
    "        model.add(BatchNormalization())\n",
    "        model.add(MaxPooling3D(pool_size=(2, 2, 2)))\n",
    "        \n",
    "        model.add(Flatten())\n",
    "        model.add(Dense(256,activation='relu'))\n",
    "        model.add(BatchNormalization())\n",
    "        model.add(Dropout(0.50))\n",
    "\n",
    "        model.add(Dense(128,activation='relu'))\n",
    "        model.add(BatchNormalization())\n",
    "        model.add(Dropout(0.50))\n",
    "\n",
    "        model.add(Dense(self.num_classes,activation='softmax'))\n",
    "\n",
    "        optimiser = optimizers.Adam(lr=0.0002)\n",
    "        model.compile(optimizer=optimiser, loss='categorical_crossentropy', metrics=['categorical_accuracy'])\n",
    "        return model"
   ]
  },
  {
   "cell_type": "code",
   "execution_count": null,
   "metadata": {
    "colab": {
     "base_uri": "https://localhost:8080/"
    },
    "id": "FmsQ3xoWy7z2",
    "outputId": "1a45db54-fe5e-4611-f9de-43f67767ee5b"
   },
   "outputs": [
    {
     "name": "stdout",
     "output_type": "stream",
     "text": [
      "Model: \"sequential_5\"\n",
      "_________________________________________________________________\n",
      " Layer (type)                Output Shape              Param #   \n",
      "=================================================================\n",
      " conv3d_20 (Conv3D)          (None, 30, 128, 128, 16)  1312      \n",
      "                                                                 \n",
      " activation_20 (Activation)  (None, 30, 128, 128, 16)  0         \n",
      "                                                                 \n",
      " batch_normalization_30 (Bat  (None, 30, 128, 128, 16)  64       \n",
      " chNormalization)                                                \n",
      "                                                                 \n",
      " max_pooling3d_20 (MaxPoolin  (None, 15, 64, 64, 16)   0         \n",
      " g3D)                                                            \n",
      "                                                                 \n",
      " conv3d_21 (Conv3D)          (None, 15, 64, 64, 32)    4128      \n",
      "                                                                 \n",
      " activation_21 (Activation)  (None, 15, 64, 64, 32)    0         \n",
      "                                                                 \n",
      " batch_normalization_31 (Bat  (None, 15, 64, 64, 32)   128       \n",
      " chNormalization)                                                \n",
      "                                                                 \n",
      " max_pooling3d_21 (MaxPoolin  (None, 7, 32, 32, 32)    0         \n",
      " g3D)                                                            \n",
      "                                                                 \n",
      " conv3d_22 (Conv3D)          (None, 7, 32, 32, 64)     16448     \n",
      "                                                                 \n",
      " activation_22 (Activation)  (None, 7, 32, 32, 64)     0         \n",
      "                                                                 \n",
      " batch_normalization_32 (Bat  (None, 7, 32, 32, 64)    256       \n",
      " chNormalization)                                                \n",
      "                                                                 \n",
      " max_pooling3d_22 (MaxPoolin  (None, 3, 16, 16, 64)    0         \n",
      " g3D)                                                            \n",
      "                                                                 \n",
      " conv3d_23 (Conv3D)          (None, 3, 16, 16, 128)    65664     \n",
      "                                                                 \n",
      " activation_23 (Activation)  (None, 3, 16, 16, 128)    0         \n",
      "                                                                 \n",
      " batch_normalization_33 (Bat  (None, 3, 16, 16, 128)   512       \n",
      " chNormalization)                                                \n",
      "                                                                 \n",
      " max_pooling3d_23 (MaxPoolin  (None, 1, 8, 8, 128)     0         \n",
      " g3D)                                                            \n",
      "                                                                 \n",
      " flatten_5 (Flatten)         (None, 8192)              0         \n",
      "                                                                 \n",
      " dense_15 (Dense)            (None, 256)               2097408   \n",
      "                                                                 \n",
      " batch_normalization_34 (Bat  (None, 256)              1024      \n",
      " chNormalization)                                                \n",
      "                                                                 \n",
      " dropout_10 (Dropout)        (None, 256)               0         \n",
      "                                                                 \n",
      " dense_16 (Dense)            (None, 128)               32896     \n",
      "                                                                 \n",
      " batch_normalization_35 (Bat  (None, 128)              512       \n",
      " chNormalization)                                                \n",
      "                                                                 \n",
      " dropout_11 (Dropout)        (None, 128)               0         \n",
      "                                                                 \n",
      " dense_17 (Dense)            (None, 5)                 645       \n",
      "                                                                 \n",
      "=================================================================\n",
      "Total params: 2,220,997\n",
      "Trainable params: 2,219,749\n",
      "Non-trainable params: 1,248\n",
      "_________________________________________________________________\n"
     ]
    }
   ],
   "source": [
    "m3_conv_3d=model2_Conv3D()\n",
    "m3_conv_3d._set_path(project_folder)\n",
    "m3_conv_3d._set_image_properties(image_height=128,image_width=128)\n",
    "m3_conv_3d._set_hyperparams(frames_to_sample=30,batch_size=20,num_epochs=20)\n",
    "model_conv3d3=m3_conv_3d.def_model()\n",
    "model_conv3d3.summary()"
   ]
  },
  {
   "cell_type": "code",
   "execution_count": null,
   "metadata": {
    "colab": {
     "base_uri": "https://localhost:8080/"
    },
    "id": "NBr2b3vAy72W",
    "outputId": "83ad3e95-3535-4148-da0a-fe5fff480e59"
   },
   "outputs": [
    {
     "name": "stderr",
     "output_type": "stream",
     "text": [
      "WARNING:tensorflow:`period` argument is deprecated. Please use `save_freq` to specify the frequency in number of batches seen.\n"
     ]
    },
    {
     "name": "stdout",
     "output_type": "stream",
     "text": [
      "Epoch 1/20\n",
      "34/34 [==============================] - ETA: 0s - loss: 1.8416 - categorical_accuracy: 0.4020 \n",
      "Epoch 1: val_loss improved from inf to 4.77626, saving model to model_init_2022-09-1115_05_37.444035/model-00001-1.84157-0.40196-4.77626-0.16000.h5\n",
      "34/34 [==============================] - 428s 13s/step - loss: 1.8416 - categorical_accuracy: 0.4020 - val_loss: 4.7763 - val_categorical_accuracy: 0.1600 - lr: 0.0010\n",
      "Epoch 2/20\n",
      "34/34 [==============================] - ETA: 0s - loss: 1.2797 - categorical_accuracy: 0.5407 \n",
      "Epoch 2: val_loss did not improve from 4.77626\n",
      "34/34 [==============================] - 452s 14s/step - loss: 1.2797 - categorical_accuracy: 0.5407 - val_loss: 6.8944 - val_categorical_accuracy: 0.1800 - lr: 0.0010\n",
      "Epoch 3/20\n",
      "34/34 [==============================] - ETA: 0s - loss: 0.9140 - categorical_accuracy: 0.6674 \n",
      "Epoch 3: val_loss did not improve from 4.77626\n",
      "34/34 [==============================] - 433s 13s/step - loss: 0.9140 - categorical_accuracy: 0.6674 - val_loss: 8.1906 - val_categorical_accuracy: 0.1800 - lr: 0.0010\n",
      "Epoch 4/20\n",
      "34/34 [==============================] - ETA: 0s - loss: 0.7721 - categorical_accuracy: 0.7202 \n",
      "Epoch 4: val_loss did not improve from 4.77626\n",
      "34/34 [==============================] - 427s 13s/step - loss: 0.7721 - categorical_accuracy: 0.7202 - val_loss: 8.1366 - val_categorical_accuracy: 0.1800 - lr: 0.0010\n",
      "Epoch 5/20\n",
      "34/34 [==============================] - ETA: 0s - loss: 0.6131 - categorical_accuracy: 0.7730 \n",
      "Epoch 5: val_loss did not improve from 4.77626\n",
      "\n",
      "Epoch 5: ReduceLROnPlateau reducing learning rate to 0.00020000000949949026.\n",
      "34/34 [==============================] - 425s 13s/step - loss: 0.6131 - categorical_accuracy: 0.7730 - val_loss: 6.8590 - val_categorical_accuracy: 0.2000 - lr: 0.0010\n",
      "Epoch 6/20\n",
      "34/34 [==============================] - ETA: 0s - loss: 0.4491 - categorical_accuracy: 0.8265 \n",
      "Epoch 6: val_loss did not improve from 4.77626\n",
      "34/34 [==============================] - 429s 13s/step - loss: 0.4491 - categorical_accuracy: 0.8265 - val_loss: 7.0002 - val_categorical_accuracy: 0.1600 - lr: 2.0000e-04\n",
      "Epoch 7/20\n",
      "34/34 [==============================] - ETA: 0s - loss: 0.4206 - categorical_accuracy: 0.8431 \n",
      "Epoch 7: val_loss did not improve from 4.77626\n",
      "34/34 [==============================] - 426s 13s/step - loss: 0.4206 - categorical_accuracy: 0.8431 - val_loss: 7.0755 - val_categorical_accuracy: 0.1800 - lr: 2.0000e-04\n",
      "Epoch 8/20\n",
      "34/34 [==============================] - ETA: 0s - loss: 0.3261 - categorical_accuracy: 0.8778 \n",
      "Epoch 8: val_loss did not improve from 4.77626\n",
      "34/34 [==============================] - 422s 13s/step - loss: 0.3261 - categorical_accuracy: 0.8778 - val_loss: 7.2582 - val_categorical_accuracy: 0.2100 - lr: 2.0000e-04\n",
      "Epoch 9/20\n",
      "34/34 [==============================] - ETA: 0s - loss: 0.3212 - categorical_accuracy: 0.8884 \n",
      "Epoch 9: val_loss did not improve from 4.77626\n",
      "\n",
      "Epoch 9: ReduceLROnPlateau reducing learning rate to 4.0000001899898055e-05.\n",
      "34/34 [==============================] - 419s 13s/step - loss: 0.3212 - categorical_accuracy: 0.8884 - val_loss: 6.7969 - val_categorical_accuracy: 0.3100 - lr: 2.0000e-04\n",
      "Epoch 10/20\n",
      "34/34 [==============================] - ETA: 0s - loss: 0.2602 - categorical_accuracy: 0.9155 \n",
      "Epoch 10: val_loss did not improve from 4.77626\n",
      "34/34 [==============================] - 429s 13s/step - loss: 0.2602 - categorical_accuracy: 0.9155 - val_loss: 6.3284 - val_categorical_accuracy: 0.2600 - lr: 4.0000e-05\n",
      "Epoch 11/20\n",
      "34/34 [==============================] - ETA: 0s - loss: 0.2958 - categorical_accuracy: 0.8944 \n",
      "Epoch 11: val_loss did not improve from 4.77626\n",
      "34/34 [==============================] - 444s 13s/step - loss: 0.2958 - categorical_accuracy: 0.8944 - val_loss: 5.2024 - val_categorical_accuracy: 0.2900 - lr: 4.0000e-05\n",
      "Epoch 11: early stopping\n"
     ]
    }
   ],
   "source": [
    "history_m3 = m3_conv_3d.train_model(model_conv3d3, augment_data=True)"
   ]
  },
  {
   "cell_type": "code",
   "execution_count": null,
   "metadata": {
    "colab": {
     "base_uri": "https://localhost:8080/",
     "height": 320
    },
    "id": "WnFJ_8cYzZZB",
    "outputId": "c8226c3a-043f-4f87-f232-3e991091b852"
   },
   "outputs": [
    {
     "data": {
      "image/png": "[encoded data removed]",
      "text/plain": [
       "<Figure size 720x360 with 2 Axes>"
      ]
     },
     "metadata": {
      "needs_background": "light"
     },
     "output_type": "display_data"
    }
   ],
   "source": [
    "plot(history_m3)"
   ]
  },
  {
   "cell_type": "markdown",
   "metadata": {
    "id": "DHi-lCfh5bul"
   },
   "source": [
    "**Observation:**\n",
    "Model is clearly overfitting and the previous model was given better results. With less number of filters and number of dence neurons model performed well.After first epoch there is no improvement in loss so the model was automatically stoped training at 11th epoch(stopped at 11th epoch because set patience to 10 in early stopping)."
   ]
  },
  {
   "cell_type": "markdown",
   "metadata": {
    "id": "4RWnDCOesrhf"
   },
   "source": [
    "**Model-4: CNN_RNN**"
   ]
  },
  {
   "cell_type": "markdown",
   "metadata": {
    "id": "PRW-dL6s6Pxp"
   },
   "source": [
    "In this model trying the combination of CNN and LSTM"
   ]
  },
  {
   "cell_type": "code",
   "execution_count": null,
   "metadata": {
    "id": "kUaX6Mk2rVTR"
   },
   "outputs": [],
   "source": [
    "class model4_CNN_RNN(Model_Builder):\n",
    "    def def_model(self):\n",
    "        model = Sequential()\n",
    "\n",
    "        model.add(TimeDistributed(Conv2D(16, (3, 3) , padding='same', activation='relu'),\n",
    "                                  input_shape=(self.frames_to_sample,self.image_height,self.image_width,self.channels)))\n",
    "        model.add(TimeDistributed(BatchNormalization()))\n",
    "        model.add(TimeDistributed(MaxPooling2D((2, 2))))\n",
    "        \n",
    "        model.add(TimeDistributed(Conv2D(32, (3, 3) , padding='same', activation='relu')))\n",
    "        model.add(TimeDistributed(BatchNormalization()))\n",
    "        model.add(TimeDistributed(MaxPooling2D((2, 2))))\n",
    "        \n",
    "        model.add(TimeDistributed(Conv2D(64, (3, 3) , padding='same', activation='relu')))\n",
    "        model.add(TimeDistributed(BatchNormalization()))\n",
    "        model.add(TimeDistributed(MaxPooling2D((2, 2))))\n",
    "        \n",
    "        model.add(TimeDistributed(Conv2D(128, (3, 3) , padding='same', activation='relu')))\n",
    "        model.add(TimeDistributed(BatchNormalization()))\n",
    "        model.add(TimeDistributed(MaxPooling2D((2, 2))))\n",
    "\n",
    "        model.add(TimeDistributed(Flatten()))\n",
    "\n",
    "        model.add(LSTM(128))\n",
    "        model.add(Dropout(0.50))\n",
    "        \n",
    "        model.add(Dense(128, activation='relu'))\n",
    "        model.add(Dropout(0.50))\n",
    "        \n",
    "        model.add(Dense(self.num_classes, activation='softmax'))\n",
    "        optimiser = optimizers.adam_v2.Adam(lr=0.0002)\n",
    "        model.compile(optimizer=optimiser, loss='categorical_crossentropy', metrics=['categorical_accuracy'])\n",
    "        return model"
   ]
  },
  {
   "cell_type": "code",
   "execution_count": null,
   "metadata": {
    "colab": {
     "base_uri": "https://localhost:8080/"
    },
    "id": "fJIE3zxbl4mA",
    "outputId": "b079bddc-feb7-4c1f-f5ee-b194fe8453b3"
   },
   "outputs": [
    {
     "name": "stdout",
     "output_type": "stream",
     "text": [
      "Model: \"sequential_7\"\n",
      "_________________________________________________________________\n",
      " Layer (type)                Output Shape              Param #   \n",
      "=================================================================\n",
      " time_distributed_13 (TimeDi  (None, 30, 128, 128, 16)  448      \n",
      " stributed)                                                      \n",
      "                                                                 \n",
      " time_distributed_14 (TimeDi  (None, 30, 128, 128, 16)  64       \n",
      " stributed)                                                      \n",
      "                                                                 \n",
      " time_distributed_15 (TimeDi  (None, 30, 64, 64, 16)   0         \n",
      " stributed)                                                      \n",
      "                                                                 \n",
      " time_distributed_16 (TimeDi  (None, 30, 64, 64, 32)   4640      \n",
      " stributed)                                                      \n",
      "                                                                 \n",
      " time_distributed_17 (TimeDi  (None, 30, 64, 64, 32)   128       \n",
      " stributed)                                                      \n",
      "                                                                 \n",
      " time_distributed_18 (TimeDi  (None, 30, 32, 32, 32)   0         \n",
      " stributed)                                                      \n",
      "                                                                 \n",
      " time_distributed_19 (TimeDi  (None, 30, 32, 32, 64)   18496     \n",
      " stributed)                                                      \n",
      "                                                                 \n",
      " time_distributed_20 (TimeDi  (None, 30, 32, 32, 64)   256       \n",
      " stributed)                                                      \n",
      "                                                                 \n",
      " time_distributed_21 (TimeDi  (None, 30, 16, 16, 64)   0         \n",
      " stributed)                                                      \n",
      "                                                                 \n",
      " time_distributed_22 (TimeDi  (None, 30, 16, 16, 128)  73856     \n",
      " stributed)                                                      \n",
      "                                                                 \n",
      " time_distributed_23 (TimeDi  (None, 30, 16, 16, 128)  512       \n",
      " stributed)                                                      \n",
      "                                                                 \n",
      " time_distributed_24 (TimeDi  (None, 30, 8, 8, 128)    0         \n",
      " stributed)                                                      \n",
      "                                                                 \n",
      " time_distributed_25 (TimeDi  (None, 30, 8192)         0         \n",
      " stributed)                                                      \n",
      "                                                                 \n",
      " lstm_1 (LSTM)               (None, 128)               4260352   \n",
      "                                                                 \n",
      " dropout_14 (Dropout)        (None, 128)               0         \n",
      "                                                                 \n",
      " dense_20 (Dense)            (None, 128)               16512     \n",
      "                                                                 \n",
      " dropout_15 (Dropout)        (None, 128)               0         \n",
      "                                                                 \n",
      " dense_21 (Dense)            (None, 5)                 645       \n",
      "                                                                 \n",
      "=================================================================\n",
      "Total params: 4,375,909\n",
      "Trainable params: 4,375,429\n",
      "Non-trainable params: 480\n",
      "_________________________________________________________________\n"
     ]
    }
   ],
   "source": [
    "m4_cnn_rnn=model4_CNN_RNN()\n",
    "m4_cnn_rnn._set_path(project_folder)\n",
    "m4_cnn_rnn._set_image_properties(image_height=128,image_width=128)\n",
    "m4_cnn_rnn._set_hyperparams(frames_to_sample=30,batch_size=20,num_epochs=20)\n",
    "model_cnn_rnn1 = m4_cnn_rnn.def_model()\n",
    "model_cnn_rnn1.summary()"
   ]
  },
  {
   "cell_type": "code",
   "execution_count": null,
   "metadata": {
    "colab": {
     "base_uri": "https://localhost:8080/"
    },
    "id": "NiQQDNhxl4of",
    "outputId": "5b4708a6-0e68-4a56-a605-ee29f8ed719f"
   },
   "outputs": [
    {
     "name": "stderr",
     "output_type": "stream",
     "text": [
      "WARNING:tensorflow:`period` argument is deprecated. Please use `save_freq` to specify the frequency in number of batches seen.\n"
     ]
    },
    {
     "name": "stdout",
     "output_type": "stream",
     "text": [
      "Epoch 1/20\n",
      "34/34 [==============================] - ETA: 0s - loss: 1.5811 - categorical_accuracy: 0.2994 \n",
      "Epoch 1: val_loss improved from inf to 1.79030, saving model to model_init_2022-09-1116_39_41.652517/model-00001-1.58108-0.29940-1.79030-0.23000.h5\n",
      "34/34 [==============================] - 449s 13s/step - loss: 1.5811 - categorical_accuracy: 0.2994 - val_loss: 1.7903 - val_categorical_accuracy: 0.2300 - lr: 2.0000e-04\n",
      "Epoch 2/20\n",
      "34/34 [==============================] - ETA: 0s - loss: 1.2900 - categorical_accuracy: 0.4713 \n",
      "Epoch 2: val_loss did not improve from 1.79030\n",
      "34/34 [==============================] - 438s 13s/step - loss: 1.2900 - categorical_accuracy: 0.4713 - val_loss: 1.9756 - val_categorical_accuracy: 0.2100 - lr: 2.0000e-04\n",
      "Epoch 3/20\n",
      "34/34 [==============================] - ETA: 0s - loss: 1.1155 - categorical_accuracy: 0.5626 \n",
      "Epoch 3: val_loss did not improve from 1.79030\n",
      "34/34 [==============================] - 444s 13s/step - loss: 1.1155 - categorical_accuracy: 0.5626 - val_loss: 1.9595 - val_categorical_accuracy: 0.2400 - lr: 2.0000e-04\n",
      "Epoch 4/20\n",
      "34/34 [==============================] - ETA: 0s - loss: 1.0025 - categorical_accuracy: 0.6048 \n",
      "Epoch 4: val_loss did not improve from 1.79030\n",
      "34/34 [==============================] - 449s 14s/step - loss: 1.0025 - categorical_accuracy: 0.6048 - val_loss: 1.8433 - val_categorical_accuracy: 0.2600 - lr: 2.0000e-04\n",
      "Epoch 5/20\n",
      "34/34 [==============================] - ETA: 0s - loss: 0.9348 - categorical_accuracy: 0.6395 \n",
      "Epoch 5: val_loss did not improve from 1.79030\n",
      "\n",
      "Epoch 5: ReduceLROnPlateau reducing learning rate to 3.9999998989515007e-05.\n",
      "34/34 [==============================] - 446s 13s/step - loss: 0.9348 - categorical_accuracy: 0.6395 - val_loss: 1.9599 - val_categorical_accuracy: 0.2500 - lr: 2.0000e-04\n",
      "Epoch 6/20\n",
      "34/34 [==============================] - ETA: 0s - loss: 0.8628 - categorical_accuracy: 0.6825 \n",
      "Epoch 6: val_loss did not improve from 1.79030\n",
      "34/34 [==============================] - 441s 13s/step - loss: 0.8628 - categorical_accuracy: 0.6825 - val_loss: 2.0515 - val_categorical_accuracy: 0.1700 - lr: 4.0000e-05\n",
      "Epoch 7/20\n",
      "34/34 [==============================] - ETA: 0s - loss: 0.7541 - categorical_accuracy: 0.7255 \n",
      "Epoch 7: val_loss did not improve from 1.79030\n",
      "34/34 [==============================] - 445s 13s/step - loss: 0.7541 - categorical_accuracy: 0.7255 - val_loss: 2.1494 - val_categorical_accuracy: 0.2100 - lr: 4.0000e-05\n",
      "Epoch 8/20\n",
      "34/34 [==============================] - ETA: 0s - loss: 0.7450 - categorical_accuracy: 0.7308 \n",
      "Epoch 8: val_loss did not improve from 1.79030\n",
      "34/34 [==============================] - 447s 14s/step - loss: 0.7450 - categorical_accuracy: 0.7308 - val_loss: 2.2398 - val_categorical_accuracy: 0.2200 - lr: 4.0000e-05\n",
      "Epoch 9/20\n",
      "34/34 [==============================] - ETA: 0s - loss: 0.7081 - categorical_accuracy: 0.7579 \n",
      "Epoch 9: val_loss did not improve from 1.79030\n",
      "\n",
      "Epoch 9: ReduceLROnPlateau reducing learning rate to 7.999999797903002e-06.\n",
      "34/34 [==============================] - 452s 14s/step - loss: 0.7081 - categorical_accuracy: 0.7579 - val_loss: 2.1995 - val_categorical_accuracy: 0.2400 - lr: 4.0000e-05\n",
      "Epoch 10/20\n",
      "34/34 [==============================] - ETA: 0s - loss: 0.6775 - categorical_accuracy: 0.7624 \n",
      "Epoch 10: val_loss did not improve from 1.79030\n",
      "34/34 [==============================] - 434s 13s/step - loss: 0.6775 - categorical_accuracy: 0.7624 - val_loss: 2.4591 - val_categorical_accuracy: 0.2100 - lr: 8.0000e-06\n",
      "Epoch 11/20\n",
      "34/34 [==============================] - ETA: 0s - loss: 0.6787 - categorical_accuracy: 0.7624 \n",
      "Epoch 11: val_loss did not improve from 1.79030\n",
      "34/34 [==============================] - 431s 13s/step - loss: 0.6787 - categorical_accuracy: 0.7624 - val_loss: 2.4688 - val_categorical_accuracy: 0.2200 - lr: 8.0000e-06\n",
      "Epoch 11: early stopping\n"
     ]
    }
   ],
   "source": [
    "history_m4 = m4_cnn_rnn.train_model(model_cnn_rnn1, augment_data=True) "
   ]
  },
  {
   "cell_type": "code",
   "execution_count": null,
   "metadata": {
    "colab": {
     "base_uri": "https://localhost:8080/",
     "height": 320
    },
    "id": "12VGMkYyl4qy",
    "outputId": "ac9b8190-fe97-4e2a-9d39-26c3804625bf"
   },
   "outputs": [
    {
     "data": {
      "image/png": "[encoded data removed]",
      "text/plain": [
       "<Figure size 720x360 with 2 Axes>"
      ]
     },
     "metadata": {
      "needs_background": "light"
     },
     "output_type": "display_data"
    }
   ],
   "source": [
    "plot(history_m4)"
   ]
  },
  {
   "cell_type": "markdown",
   "metadata": {
    "id": "WGpBlVN46kPK"
   },
   "source": [
    "**Observation:**\n",
    "CNN with LSTM is overfitting. So, let's try the preformace of the CNN with GRUs. After first epoch there is no improvement in loss so the model was automatically stoped training at 11th epoch(stopped at 11th epoch because set patience to 10 in early stopping)."
   ]
  },
  {
   "cell_type": "markdown",
   "metadata": {
    "id": "4emcAkSP6xan"
   },
   "source": [
    "**Model-5: CNN_RNN**"
   ]
  },
  {
   "cell_type": "markdown",
   "metadata": {
    "id": "UQqVmjtE6_gr"
   },
   "source": [
    "In this model trying the combination of CNN and GRUs"
   ]
  },
  {
   "cell_type": "code",
   "execution_count": null,
   "metadata": {
    "id": "8Twup2Cc6Xtm"
   },
   "outputs": [],
   "source": [
    "class model5_CNN_RNN(Model_Builder):\n",
    "    def def_model(self):\n",
    "        model = Sequential()\n",
    "\n",
    "        model.add(TimeDistributed(Conv2D(16, (3, 3) , padding='same', activation='relu'),\n",
    "                                  input_shape=(self.frames_to_sample,self.image_height,self.image_width,self.channels)))\n",
    "        model.add(TimeDistributed(BatchNormalization()))\n",
    "        model.add(TimeDistributed(MaxPooling2D((2, 2))))\n",
    "        \n",
    "        model.add(TimeDistributed(Conv2D(32, (3, 3) , padding='same', activation='relu')))\n",
    "        model.add(TimeDistributed(BatchNormalization()))\n",
    "        model.add(TimeDistributed(MaxPooling2D((2, 2))))\n",
    "        \n",
    "        model.add(TimeDistributed(Conv2D(64, (3, 3) , padding='same', activation='relu')))\n",
    "        model.add(TimeDistributed(BatchNormalization()))\n",
    "        model.add(TimeDistributed(MaxPooling2D((2, 2))))\n",
    "        \n",
    "        model.add(TimeDistributed(Conv2D(128, (3, 3) , padding='same', activation='relu')))\n",
    "        model.add(TimeDistributed(BatchNormalization()))\n",
    "        model.add(TimeDistributed(MaxPooling2D((2, 2))))\n",
    "        \n",
    "        model.add(TimeDistributed(Flatten()))\n",
    "\n",
    "        model.add(GRU(128))\n",
    "        model.add(Dropout(0.50))\n",
    "        \n",
    "        model.add(Dense(128,activation='relu'))\n",
    "        model.add(Dropout(0.50))\n",
    "        \n",
    "        model.add(Dense(self.num_classes, activation='softmax'))\n",
    "        optimiser = optimizers.adam_v2.Adam(lr=0.0002)\n",
    "        model.compile(optimizer=optimiser, loss='categorical_crossentropy', metrics=['categorical_accuracy'])\n",
    "        return model"
   ]
  },
  {
   "cell_type": "code",
   "execution_count": null,
   "metadata": {
    "colab": {
     "base_uri": "https://localhost:8080/"
    },
    "id": "gSj0t5sw6Xv-",
    "outputId": "ee14b386-3783-460d-efb8-2f067729cf0e"
   },
   "outputs": [
    {
     "name": "stdout",
     "output_type": "stream",
     "text": [
      "Model: \"sequential\"\n",
      "_________________________________________________________________\n",
      " Layer (type)                Output Shape              Param #   \n",
      "=================================================================\n",
      " time_distributed (TimeDistr  (None, 30, 128, 128, 16)  448      \n",
      " ibuted)                                                         \n",
      "                                                                 \n",
      " time_distributed_1 (TimeDis  (None, 30, 128, 128, 16)  64       \n",
      " tributed)                                                       \n",
      "                                                                 \n",
      " time_distributed_2 (TimeDis  (None, 30, 64, 64, 16)   0         \n",
      " tributed)                                                       \n",
      "                                                                 \n",
      " time_distributed_3 (TimeDis  (None, 30, 64, 64, 32)   4640      \n",
      " tributed)                                                       \n",
      "                                                                 \n",
      " time_distributed_4 (TimeDis  (None, 30, 64, 64, 32)   128       \n",
      " tributed)                                                       \n",
      "                                                                 \n",
      " time_distributed_5 (TimeDis  (None, 30, 32, 32, 32)   0         \n",
      " tributed)                                                       \n",
      "                                                                 \n",
      " time_distributed_6 (TimeDis  (None, 30, 32, 32, 64)   18496     \n",
      " tributed)                                                       \n",
      "                                                                 \n",
      " time_distributed_7 (TimeDis  (None, 30, 32, 32, 64)   256       \n",
      " tributed)                                                       \n",
      "                                                                 \n",
      " time_distributed_8 (TimeDis  (None, 30, 16, 16, 64)   0         \n",
      " tributed)                                                       \n",
      "                                                                 \n",
      " time_distributed_9 (TimeDis  (None, 30, 16, 16, 128)  73856     \n",
      " tributed)                                                       \n",
      "                                                                 \n",
      " time_distributed_10 (TimeDi  (None, 30, 16, 16, 128)  512       \n",
      " stributed)                                                      \n",
      "                                                                 \n",
      " time_distributed_11 (TimeDi  (None, 30, 8, 8, 128)    0         \n",
      " stributed)                                                      \n",
      "                                                                 \n",
      " time_distributed_12 (TimeDi  (None, 30, 8192)         0         \n",
      " stributed)                                                      \n",
      "                                                                 \n",
      " gru (GRU)                   (None, 128)               3195648   \n",
      "                                                                 \n",
      " dropout (Dropout)           (None, 128)               0         \n",
      "                                                                 \n",
      " dense (Dense)               (None, 128)               16512     \n",
      "                                                                 \n",
      " dropout_1 (Dropout)         (None, 128)               0         \n",
      "                                                                 \n",
      " dense_1 (Dense)             (None, 5)                 645       \n",
      "                                                                 \n",
      "=================================================================\n",
      "Total params: 3,311,205\n",
      "Trainable params: 3,310,725\n",
      "Non-trainable params: 480\n",
      "_________________________________________________________________\n"
     ]
    }
   ],
   "source": [
    "m5_cnn_rnn=model5_CNN_RNN()\n",
    "m5_cnn_rnn._set_path(project_folder)\n",
    "m5_cnn_rnn._set_image_properties(image_height=128,image_width=128)\n",
    "m5_cnn_rnn._set_hyperparams(frames_to_sample=30,batch_size=10,num_epochs=20)\n",
    "model_cnn_rnn2 = m5_cnn_rnn.def_model()\n",
    "model_cnn_rnn2.summary()"
   ]
  },
  {
   "cell_type": "code",
   "execution_count": null,
   "metadata": {
    "colab": {
     "base_uri": "https://localhost:8080/"
    },
    "id": "KAeE-BB96XyJ",
    "outputId": "cd390477-298b-43a1-af71-55653183be77",
    "scrolled": false
   },
   "outputs": [
    {
     "metadata": {
      "tags": null
     },
     "name": "stderr",
     "output_type": "stream",
     "text": [
      "WARNING:tensorflow:`period` argument is deprecated. Please use `save_freq` to specify the frequency in number of batches seen.\n"
     ]
    },
    {
     "name": "stdout",
     "output_type": "stream",
     "text": [
      "Epoch 1/20\n",
      "67/67 [==============================] - ETA: 0s - loss: 1.6290 - categorical_accuracy: 0.3439  \n",
      "Epoch 1: val_loss improved from inf to 2.01742, saving model to model_init_2022-09-1204_05_11.078055/model-00001-1.62902-0.34389-2.01742-0.21000.h5\n",
      "67/67 [==============================] - 7254s 110s/step - loss: 1.6290 - categorical_accuracy: 0.3439 - val_loss: 2.0174 - val_categorical_accuracy: 0.2100 - lr: 2.0000e-04\n",
      "Epoch 2/20\n",
      "67/67 [==============================] - ETA: 0s - loss: 1.3349 - categorical_accuracy: 0.4766\n",
      "Epoch 2: val_loss did not improve from 2.01742\n",
      "67/67 [==============================] - 446s 7s/step - loss: 1.3349 - categorical_accuracy: 0.4766 - val_loss: 2.3734 - val_categorical_accuracy: 0.1900 - lr: 2.0000e-04\n",
      "Epoch 3/20\n",
      "67/67 [==============================] - ETA: 0s - loss: 1.1266 - categorical_accuracy: 0.5618\n",
      "Epoch 3: val_loss did not improve from 2.01742\n",
      "67/67 [==============================] - 429s 6s/step - loss: 1.1266 - categorical_accuracy: 0.5618 - val_loss: 2.3917 - val_categorical_accuracy: 0.2400 - lr: 2.0000e-04\n",
      "Epoch 4/20\n",
      "67/67 [==============================] - ETA: 0s - loss: 0.9580 - categorical_accuracy: 0.6395\n",
      "Epoch 4: val_loss did not improve from 2.01742\n",
      "67/67 [==============================] - 422s 6s/step - loss: 0.9580 - categorical_accuracy: 0.6395 - val_loss: 2.3848 - val_categorical_accuracy: 0.2100 - lr: 2.0000e-04\n",
      "Epoch 5/20\n",
      "67/67 [==============================] - ETA: 0s - loss: 0.8691 - categorical_accuracy: 0.6652\n",
      "Epoch 5: val_loss did not improve from 2.01742\n",
      "\n",
      "Epoch 5: ReduceLROnPlateau reducing learning rate to 3.9999998989515007e-05.\n",
      "67/67 [==============================] - 421s 6s/step - loss: 0.8691 - categorical_accuracy: 0.6652 - val_loss: 2.3985 - val_categorical_accuracy: 0.2900 - lr: 2.0000e-04\n",
      "Epoch 6/20\n",
      "67/67 [==============================] - ETA: 0s - loss: 0.6910 - categorical_accuracy: 0.7564\n",
      "Epoch 6: val_loss improved from 2.01742 to 1.96654, saving model to model_init_2022-09-1204_05_11.078055/model-00006-0.69104-0.75641-1.96654-0.36000.h5\n",
      "67/67 [==============================] - 413s 6s/step - loss: 0.6910 - categorical_accuracy: 0.7564 - val_loss: 1.9665 - val_categorical_accuracy: 0.3600 - lr: 4.0000e-05\n",
      "Epoch 7/20\n",
      "67/67 [==============================] - ETA: 0s - loss: 0.6034 - categorical_accuracy: 0.7858\n",
      "Epoch 7: val_loss improved from 1.96654 to 1.31698, saving model to model_init_2022-09-1204_05_11.078055/model-00007-0.60338-0.78582-1.31698-0.49000.h5\n",
      "67/67 [==============================] - 432s 7s/step - loss: 0.6034 - categorical_accuracy: 0.7858 - val_loss: 1.3170 - val_categorical_accuracy: 0.4900 - lr: 4.0000e-05\n",
      "Epoch 8/20\n",
      "67/67 [==============================] - ETA: 0s - loss: 0.5967 - categorical_accuracy: 0.7753\n",
      "Epoch 8: val_loss improved from 1.31698 to 0.96497, saving model to model_init_2022-09-1204_05_11.078055/model-00008-0.59668-0.77526-0.96497-0.62000.h5\n",
      "67/67 [==============================] - 431s 7s/step - loss: 0.5967 - categorical_accuracy: 0.7753 - val_loss: 0.9650 - val_categorical_accuracy: 0.6200 - lr: 4.0000e-05\n",
      "Epoch 9/20\n",
      "67/67 [==============================] - ETA: 0s - loss: 0.5101 - categorical_accuracy: 0.8160\n",
      "Epoch 9: val_loss improved from 0.96497 to 0.73645, saving model to model_init_2022-09-1204_05_11.078055/model-00009-0.51006-0.81599-0.73645-0.75000.h5\n",
      "67/67 [==============================] - 431s 7s/step - loss: 0.5101 - categorical_accuracy: 0.8160 - val_loss: 0.7364 - val_categorical_accuracy: 0.7500 - lr: 4.0000e-05\n",
      "Epoch 10/20\n",
      "67/67 [==============================] - ETA: 0s - loss: 0.4979 - categorical_accuracy: 0.8288\n",
      "Epoch 10: val_loss improved from 0.73645 to 0.57753, saving model to model_init_2022-09-1204_05_11.078055/model-00010-0.49794-0.82881-0.57753-0.83000.h5\n",
      "67/67 [==============================] - 441s 7s/step - loss: 0.4979 - categorical_accuracy: 0.8288 - val_loss: 0.5775 - val_categorical_accuracy: 0.8300 - lr: 4.0000e-05\n",
      "Epoch 11/20\n",
      "67/67 [==============================] - ETA: 0s - loss: 0.4861 - categorical_accuracy: 0.8288\n",
      "Epoch 11: val_loss improved from 0.57753 to 0.54426, saving model to model_init_2022-09-1204_05_11.078055/model-00011-0.48615-0.82881-0.54426-0.84000.h5\n",
      "67/67 [==============================] - 435s 7s/step - loss: 0.4861 - categorical_accuracy: 0.8288 - val_loss: 0.5443 - val_categorical_accuracy: 0.8400 - lr: 4.0000e-05\n",
      "Epoch 12/20\n",
      "67/67 [==============================] - ETA: 0s - loss: 0.4600 - categorical_accuracy: 0.8371\n",
      "Epoch 12: val_loss improved from 0.54426 to 0.45632, saving model to model_init_2022-09-1204_05_11.078055/model-00012-0.46005-0.83710-0.45632-0.83000.h5\n",
      "67/67 [==============================] - 412s 6s/step - loss: 0.4600 - categorical_accuracy: 0.8371 - val_loss: 0.4563 - val_categorical_accuracy: 0.8300 - lr: 4.0000e-05\n",
      "Epoch 13/20\n",
      "67/67 [==============================] - ETA: 0s - loss: 0.4563 - categorical_accuracy: 0.8469\n",
      "Epoch 13: val_loss did not improve from 0.45632\n",
      "67/67 [==============================] - 421s 6s/step - loss: 0.4563 - categorical_accuracy: 0.8469 - val_loss: 0.5540 - val_categorical_accuracy: 0.8200 - lr: 4.0000e-05\n",
      "Epoch 14/20\n",
      "67/67 [==============================] - ETA: 0s - loss: 0.4024 - categorical_accuracy: 0.8725\n",
      "Epoch 14: val_loss improved from 0.45632 to 0.42851, saving model to model_init_2022-09-1204_05_11.078055/model-00014-0.40243-0.87255-0.42851-0.85000.h5\n",
      "67/67 [==============================] - 405s 6s/step - loss: 0.4024 - categorical_accuracy: 0.8725 - val_loss: 0.4285 - val_categorical_accuracy: 0.8500 - lr: 4.0000e-05\n",
      "Epoch 15/20\n",
      "67/67 [==============================] - ETA: 0s - loss: 0.3627 - categorical_accuracy: 0.8861\n",
      "Epoch 15: val_loss did not improve from 0.42851\n",
      "67/67 [==============================] - 411s 6s/step - loss: 0.3627 - categorical_accuracy: 0.8861 - val_loss: 0.6192 - val_categorical_accuracy: 0.7900 - lr: 4.0000e-05\n",
      "Epoch 16/20\n",
      "67/67 [==============================] - ETA: 0s - loss: 0.3875 - categorical_accuracy: 0.8771\n",
      "Epoch 16: val_loss did not improve from 0.42851\n",
      "67/67 [==============================] - 415s 6s/step - loss: 0.3875 - categorical_accuracy: 0.8771 - val_loss: 0.4631 - val_categorical_accuracy: 0.8300 - lr: 4.0000e-05\n",
      "Epoch 17/20\n",
      "67/67 [==============================] - ETA: 0s - loss: 0.3356 - categorical_accuracy: 0.8891\n",
      "Epoch 17: val_loss did not improve from 0.42851\n",
      "67/67 [==============================] - 412s 6s/step - loss: 0.3356 - categorical_accuracy: 0.8891 - val_loss: 0.4409 - val_categorical_accuracy: 0.8700 - lr: 4.0000e-05\n",
      "Epoch 18/20\n",
      "67/67 [==============================] - ETA: 0s - loss: 0.3209 - categorical_accuracy: 0.8959\n",
      "Epoch 18: val_loss did not improve from 0.42851\n",
      "\n",
      "Epoch 18: ReduceLROnPlateau reducing learning rate to 7.999999797903002e-06.\n",
      "67/67 [==============================] - 420s 6s/step - loss: 0.3209 - categorical_accuracy: 0.8959 - val_loss: 0.5141 - val_categorical_accuracy: 0.8300 - lr: 4.0000e-05\n",
      "Epoch 19/20\n",
      "67/67 [==============================] - ETA: 0s - loss: 0.2894 - categorical_accuracy: 0.9186\n",
      "Epoch 19: val_loss improved from 0.42851 to 0.39662, saving model to model_init_2022-09-1204_05_11.078055/model-00019-0.28939-0.91855-0.39662-0.89000.h5\n",
      "67/67 [==============================] - 412s 6s/step - loss: 0.2894 - categorical_accuracy: 0.9186 - val_loss: 0.3966 - val_categorical_accuracy: 0.8900 - lr: 8.0000e-06\n",
      "Epoch 20/20\n",
      "67/67 [==============================] - ETA: 0s - loss: 0.2705 - categorical_accuracy: 0.9163\n",
      "Epoch 20: val_loss did not improve from 0.39662\n",
      "67/67 [==============================] - 421s 6s/step - loss: 0.2705 - categorical_accuracy: 0.9163 - val_loss: 0.4764 - val_categorical_accuracy: 0.8300 - lr: 8.0000e-06\n"
     ]
    }
   ],
   "source": [
    "history_m5 = m5_cnn_rnn.train_model(model_cnn_rnn2,augment_data=True)"
   ]
  },
  {
   "cell_type": "code",
   "execution_count": null,
   "metadata": {
    "colab": {
     "base_uri": "https://localhost:8080/",
     "height": 323
    },
    "id": "w1kWBhVq6X0Q",
    "outputId": "044315e2-bea3-451d-d1ec-07d38a521a24"
   },
   "outputs": [
    {
     "data": {
      "image/png": "[encoded data removed]",
      "text/plain": [
       "<Figure size 720x360 with 2 Axes>"
      ]
     },
     "metadata": {
      "needs_background": "light"
     },
     "output_type": "display_data"
    }
   ],
   "source": [
    "plot(history_m5)"
   ]
  },
  {
   "cell_type": "markdown",
   "metadata": {
    "id": "0Jdvt7597wnD"
   },
   "source": [
    "**Observation:**\n",
    "The model was produced the decent results. Results are good at 19th epoch and the loss was not improved in later epochs. Training accuracy is 0.91 and validation accuracy 0.89"
   ]
  },
  {
   "cell_type": "markdown",
   "metadata": {
    "id": "42L-WssnuprN"
   },
   "source": [
    "**Model-6: CNN_RNN Transfer Learning**"
   ]
  },
  {
   "cell_type": "markdown",
   "metadata": {
    "id": "CbK-KVKb9bDM"
   },
   "source": [
    "Using the Transfer learning approch with CNN and GRUs.\n",
    "Used InceptionV3 with Imagenet weights ,reduced batch size, and increased the number of epochs."
   ]
  },
  {
   "cell_type": "code",
   "execution_count": null,
   "metadata": {
    "colab": {
     "base_uri": "https://localhost:8080/"
    },
    "id": "IUgJ2hxNunuZ",
    "outputId": "2dd1f4c8-5a18-4002-b380-0ea3355ae452"
   },
   "outputs": [
    {
     "name": "stdout",
     "output_type": "stream",
     "text": [
      "Downloading data from https://storage.googleapis.com/tensorflow/keras-applications/inception_v3/inception_v3_weights_tf_dim_ordering_tf_kernels_notop.h5\n",
      "87916544/87910968 [==============================] - 1s 0us/step\n",
      "87924736/87910968 [==============================] - 1s 0us/step\n"
     ]
    }
   ],
   "source": [
    "from keras.applications import inception_v3\n",
    "inception_model = inception_v3.InceptionV3(weights='imagenet', include_top=False)"
   ]
  },
  {
   "cell_type": "code",
   "execution_count": null,
   "metadata": {
    "id": "kDYUA8csunw2"
   },
   "outputs": [],
   "source": [
    "class model6_Transfer_InceptionModel(Model_Builder):\n",
    "    def def_model(self):\n",
    "        model = Sequential()\n",
    "\n",
    "        model.add(TimeDistributed(inception_model,\n",
    "                                  input_shape=(self.frames_to_sample,self.image_height,self.image_width,self.channels)))\n",
    "\n",
    "        model.add(TimeDistributed(BatchNormalization()))\n",
    "        model.add(TimeDistributed(MaxPooling2D((2, 2))))\n",
    "        model.add(TimeDistributed(Flatten()))\n",
    "\n",
    "        model.add(GRU(128))\n",
    "        model.add(Dropout(0.50))\n",
    "        \n",
    "        model.add(Dense(128,activation='relu'))\n",
    "        model.add(Dropout(0.50))\n",
    "        \n",
    "        model.add(Dense(self.num_classes, activation='softmax'))\n",
    "        optimiser = optimizers.adam_v2.Adam(lr=0.0002)\n",
    "        model.compile(optimizer=optimiser, loss='categorical_crossentropy', metrics=['categorical_accuracy'])\n",
    "        return model"
   ]
  },
  {
   "cell_type": "code",
   "execution_count": null,
   "metadata": {
    "colab": {
     "base_uri": "https://localhost:8080/"
    },
    "id": "9hsCAEOCunzS",
    "outputId": "c607a273-ab35-486a-defe-9436c5378f72"
   },
   "outputs": [
    {
     "name": "stdout",
     "output_type": "stream",
     "text": [
      "Model: \"sequential_1\"\n",
      "_________________________________________________________________\n",
      " Layer (type)                Output Shape              Param #   \n",
      "=================================================================\n",
      " time_distributed_13 (TimeDi  (None, 30, 2, 2, 2048)   21802784  \n",
      " stributed)                                                      \n",
      "                                                                 \n",
      " time_distributed_14 (TimeDi  (None, 30, 2, 2, 2048)   8192      \n",
      " stributed)                                                      \n",
      "                                                                 \n",
      " time_distributed_15 (TimeDi  (None, 30, 1, 1, 2048)   0         \n",
      " stributed)                                                      \n",
      "                                                                 \n",
      " time_distributed_16 (TimeDi  (None, 30, 2048)         0         \n",
      " stributed)                                                      \n",
      "                                                                 \n",
      " gru_1 (GRU)                 (None, 128)               836352    \n",
      "                                                                 \n",
      " dropout_2 (Dropout)         (None, 128)               0         \n",
      "                                                                 \n",
      " dense_2 (Dense)             (None, 128)               16512     \n",
      "                                                                 \n",
      " dropout_3 (Dropout)         (None, 128)               0         \n",
      "                                                                 \n",
      " dense_3 (Dense)             (None, 5)                 645       \n",
      "                                                                 \n",
      "=================================================================\n",
      "Total params: 22,664,485\n",
      "Trainable params: 22,625,957\n",
      "Non-trainable params: 38,528\n",
      "_________________________________________________________________\n"
     ]
    }
   ],
   "source": [
    "m6_TFL = model6_Transfer_InceptionModel()\n",
    "m6_TFL._set_path(project_folder)\n",
    "m6_TFL._set_image_properties(image_height=128,image_width=128)\n",
    "m6_TFL._set_hyperparams(frames_to_sample=30,batch_size=5,num_epochs=25)\n",
    "model_TFL_rnn = m6_TFL.def_model()\n",
    "model_TFL_rnn.summary()"
   ]
  },
  {
   "cell_type": "code",
   "execution_count": null,
   "metadata": {
    "colab": {
     "base_uri": "https://localhost:8080/"
    },
    "id": "2RGwFk1bun9l",
    "outputId": "39520735-cbfc-46c0-bc70-ea8725965f52",
    "scrolled": false
   },
   "outputs": [
    {
     "name": "stderr",
     "output_type": "stream",
     "text": [
      "WARNING:tensorflow:`period` argument is deprecated. Please use `save_freq` to specify the frequency in number of batches seen.\n"
     ]
    },
    {
     "name": "stdout",
     "output_type": "stream",
     "text": [
      "Epoch 1/25\n",
      "133/133 [==============================] - ETA: 0s - loss: 1.6231 - categorical_accuracy: 0.3017\n",
      "Epoch 1: val_loss improved from inf to 1.06207, saving model to model_init_2022-09-1208_55_09.835993/model-00001-1.62309-0.30166-1.06207-0.57000.h5\n",
      "133/133 [==============================] - 471s 3s/step - loss: 1.6231 - categorical_accuracy: 0.3017 - val_loss: 1.0621 - val_categorical_accuracy: 0.5700 - lr: 2.0000e-04\n",
      "Epoch 2/25\n",
      "133/133 [==============================] - ETA: 0s - loss: 0.9265 - categorical_accuracy: 0.6554\n",
      "Epoch 2: val_loss improved from 1.06207 to 0.52398, saving model to model_init_2022-09-1208_55_09.835993/model-00002-0.92653-0.65535-0.52398-0.79000.h5\n",
      "133/133 [==============================] - 434s 3s/step - loss: 0.9265 - categorical_accuracy: 0.6554 - val_loss: 0.5240 - val_categorical_accuracy: 0.7900 - lr: 2.0000e-04\n",
      "Epoch 3/25\n",
      "133/133 [==============================] - ETA: 0s - loss: 0.5025 - categorical_accuracy: 0.8394 \n",
      "Epoch 3: val_loss improved from 0.52398 to 0.33227, saving model to model_init_2022-09-1208_55_09.835993/model-00003-0.50247-0.83937-0.33227-0.91000.h5\n",
      "133/133 [==============================] - 2126s 16s/step - loss: 0.5025 - categorical_accuracy: 0.8394 - val_loss: 0.3323 - val_categorical_accuracy: 0.9100 - lr: 2.0000e-04\n",
      "Epoch 4/25\n",
      "133/133 [==============================] - ETA: 0s - loss: 0.3108 - categorical_accuracy: 0.9103\n",
      "Epoch 4: val_loss improved from 0.33227 to 0.26774, saving model to model_init_2022-09-1208_55_09.835993/model-00004-0.31076-0.91026-0.26774-0.92000.h5\n",
      "133/133 [==============================] - 433s 3s/step - loss: 0.3108 - categorical_accuracy: 0.9103 - val_loss: 0.2677 - val_categorical_accuracy: 0.9200 - lr: 2.0000e-04\n",
      "Epoch 5/25\n",
      "133/133 [==============================] - ETA: 0s - loss: 0.1838 - categorical_accuracy: 0.9442\n",
      "Epoch 5: val_loss improved from 0.26774 to 0.26653, saving model to model_init_2022-09-1208_55_09.835993/model-00005-0.18377-0.94419-0.26653-0.93000.h5\n",
      "133/133 [==============================] - 426s 3s/step - loss: 0.1838 - categorical_accuracy: 0.9442 - val_loss: 0.2665 - val_categorical_accuracy: 0.9300 - lr: 2.0000e-04\n",
      "Epoch 6/25\n",
      "133/133 [==============================] - ETA: 0s - loss: 0.1713 - categorical_accuracy: 0.9480\n",
      "Epoch 6: val_loss did not improve from 0.26653\n",
      "133/133 [==============================] - 426s 3s/step - loss: 0.1713 - categorical_accuracy: 0.9480 - val_loss: 0.4115 - val_categorical_accuracy: 0.8800 - lr: 2.0000e-04\n",
      "Epoch 7/25\n",
      "133/133 [==============================] - ETA: 0s - loss: 0.1166 - categorical_accuracy: 0.9683\n",
      "Epoch 7: val_loss did not improve from 0.26653\n",
      "133/133 [==============================] - 428s 3s/step - loss: 0.1166 - categorical_accuracy: 0.9683 - val_loss: 0.3939 - val_categorical_accuracy: 0.9000 - lr: 2.0000e-04\n",
      "Epoch 8/25\n",
      "133/133 [==============================] - ETA: 0s - loss: 0.0896 - categorical_accuracy: 0.9729\n",
      "Epoch 8: val_loss did not improve from 0.26653\n",
      "133/133 [==============================] - 707s 5s/step - loss: 0.0896 - categorical_accuracy: 0.9729 - val_loss: 0.3612 - val_categorical_accuracy: 0.9300 - lr: 2.0000e-04\n",
      "Epoch 9/25\n",
      "133/133 [==============================] - ETA: 0s - loss: 0.1072 - categorical_accuracy: 0.9706\n",
      "Epoch 9: val_loss did not improve from 0.26653\n",
      "\n",
      "Epoch 9: ReduceLROnPlateau reducing learning rate to 3.9999998989515007e-05.\n",
      "133/133 [==============================] - 436s 3s/step - loss: 0.1072 - categorical_accuracy: 0.9706 - val_loss: 0.3586 - val_categorical_accuracy: 0.9300 - lr: 2.0000e-04\n",
      "Epoch 10/25\n",
      "133/133 [==============================] - ETA: 0s - loss: 0.0992 - categorical_accuracy: 0.9698\n",
      "Epoch 10: val_loss improved from 0.26653 to 0.14726, saving model to model_init_2022-09-1208_55_09.835993/model-00010-0.09923-0.96983-0.14726-0.97000.h5\n",
      "133/133 [==============================] - 434s 3s/step - loss: 0.0992 - categorical_accuracy: 0.9698 - val_loss: 0.1473 - val_categorical_accuracy: 0.9700 - lr: 4.0000e-05\n",
      "Epoch 11/25\n",
      "133/133 [==============================] - ETA: 0s - loss: 0.0644 - categorical_accuracy: 0.9811\n",
      "Epoch 11: val_loss did not improve from 0.14726\n",
      "133/133 [==============================] - 434s 3s/step - loss: 0.0644 - categorical_accuracy: 0.9811 - val_loss: 0.2326 - val_categorical_accuracy: 0.9500 - lr: 4.0000e-05\n",
      "Epoch 12/25\n",
      "133/133 [==============================] - ETA: 0s - loss: 0.0340 - categorical_accuracy: 0.9902\n",
      "Epoch 12: val_loss did not improve from 0.14726\n",
      "133/133 [==============================] - 432s 3s/step - loss: 0.0340 - categorical_accuracy: 0.9902 - val_loss: 0.2026 - val_categorical_accuracy: 0.9500 - lr: 4.0000e-05\n",
      "Epoch 13/25\n",
      "133/133 [==============================] - ETA: 0s - loss: 0.0360 - categorical_accuracy: 0.9925\n",
      "Epoch 13: val_loss did not improve from 0.14726\n",
      "133/133 [==============================] - 418s 3s/step - loss: 0.0360 - categorical_accuracy: 0.9925 - val_loss: 0.1685 - val_categorical_accuracy: 0.9700 - lr: 4.0000e-05\n",
      "Epoch 14/25\n",
      "133/133 [==============================] - ETA: 0s - loss: 0.0282 - categorical_accuracy: 0.9940\n",
      "Epoch 14: val_loss did not improve from 0.14726\n",
      "\n",
      "Epoch 14: ReduceLROnPlateau reducing learning rate to 7.999999797903002e-06.\n",
      "133/133 [==============================] - 457s 3s/step - loss: 0.0282 - categorical_accuracy: 0.9940 - val_loss: 0.1795 - val_categorical_accuracy: 0.9600 - lr: 4.0000e-05\n",
      "Epoch 15/25\n",
      "133/133 [==============================] - ETA: 0s - loss: 0.0273 - categorical_accuracy: 0.9932\n",
      "Epoch 15: val_loss did not improve from 0.14726\n",
      "133/133 [==============================] - 461s 3s/step - loss: 0.0273 - categorical_accuracy: 0.9932 - val_loss: 0.2446 - val_categorical_accuracy: 0.9600 - lr: 8.0000e-06\n",
      "Epoch 16/25\n",
      "133/133 [==============================] - ETA: 0s - loss: 0.0217 - categorical_accuracy: 0.9962\n",
      "Epoch 16: val_loss did not improve from 0.14726\n",
      "133/133 [==============================] - 455s 3s/step - loss: 0.0217 - categorical_accuracy: 0.9962 - val_loss: 0.1577 - val_categorical_accuracy: 0.9700 - lr: 8.0000e-06\n",
      "Epoch 17/25\n",
      "133/133 [==============================] - ETA: 0s - loss: 0.0238 - categorical_accuracy: 0.9955\n",
      "Epoch 17: val_loss improved from 0.14726 to 0.12185, saving model to model_init_2022-09-1208_55_09.835993/model-00017-0.02375-0.99548-0.12185-0.98000.h5\n",
      "133/133 [==============================] - 438s 3s/step - loss: 0.0238 - categorical_accuracy: 0.9955 - val_loss: 0.1218 - val_categorical_accuracy: 0.9800 - lr: 8.0000e-06\n",
      "Epoch 18/25\n",
      "133/133 [==============================] - ETA: 0s - loss: 0.0283 - categorical_accuracy: 0.9925\n",
      "Epoch 18: val_loss did not improve from 0.12185\n",
      "133/133 [==============================] - 437s 3s/step - loss: 0.0283 - categorical_accuracy: 0.9925 - val_loss: 0.2143 - val_categorical_accuracy: 0.9600 - lr: 8.0000e-06\n",
      "Epoch 19/25\n",
      "133/133 [==============================] - ETA: 0s - loss: 0.0207 - categorical_accuracy: 0.9962\n",
      "Epoch 19: val_loss did not improve from 0.12185\n",
      "133/133 [==============================] - 447s 3s/step - loss: 0.0207 - categorical_accuracy: 0.9962 - val_loss: 0.1646 - val_categorical_accuracy: 0.9700 - lr: 8.0000e-06\n",
      "Epoch 20/25\n",
      "133/133 [==============================] - ETA: 0s - loss: 0.0181 - categorical_accuracy: 0.9947\n",
      "Epoch 20: val_loss improved from 0.12185 to 0.08267, saving model to model_init_2022-09-1208_55_09.835993/model-00020-0.01814-0.99472-0.08267-0.97000.h5\n",
      "133/133 [==============================] - 444s 3s/step - loss: 0.0181 - categorical_accuracy: 0.9947 - val_loss: 0.0827 - val_categorical_accuracy: 0.9700 - lr: 8.0000e-06\n",
      "Epoch 21/25\n",
      "133/133 [==============================] - ETA: 0s - loss: 0.0278 - categorical_accuracy: 0.9955\n",
      "Epoch 21: val_loss did not improve from 0.08267\n",
      "133/133 [==============================] - 436s 3s/step - loss: 0.0278 - categorical_accuracy: 0.9955 - val_loss: 0.1704 - val_categorical_accuracy: 0.9500 - lr: 8.0000e-06\n",
      "Epoch 22/25\n",
      "133/133 [==============================] - ETA: 0s - loss: 0.0176 - categorical_accuracy: 0.9962\n",
      "Epoch 22: val_loss did not improve from 0.08267\n",
      "133/133 [==============================] - 703s 5s/step - loss: 0.0176 - categorical_accuracy: 0.9962 - val_loss: 0.1584 - val_categorical_accuracy: 0.9700 - lr: 8.0000e-06\n",
      "Epoch 23/25\n",
      "133/133 [==============================] - ETA: 0s - loss: 0.0123 - categorical_accuracy: 0.9985\n",
      "Epoch 23: val_loss did not improve from 0.08267\n",
      "133/133 [==============================] - 439s 3s/step - loss: 0.0123 - categorical_accuracy: 0.9985 - val_loss: 0.1543 - val_categorical_accuracy: 0.9700 - lr: 8.0000e-06\n",
      "Epoch 24/25\n",
      "133/133 [==============================] - ETA: 0s - loss: 0.0116 - categorical_accuracy: 0.9985\n",
      "Epoch 24: val_loss did not improve from 0.08267\n",
      "\n",
      "Epoch 24: ReduceLROnPlateau reducing learning rate to 1.5999999959603884e-06.\n",
      "133/133 [==============================] - 449s 3s/step - loss: 0.0116 - categorical_accuracy: 0.9985 - val_loss: 0.1564 - val_categorical_accuracy: 0.9700 - lr: 8.0000e-06\n",
      "Epoch 25/25\n",
      "133/133 [==============================] - ETA: 0s - loss: 0.0153 - categorical_accuracy: 0.9970\n",
      "Epoch 25: val_loss did not improve from 0.08267\n",
      "133/133 [==============================] - 453s 3s/step - loss: 0.0153 - categorical_accuracy: 0.9970 - val_loss: 0.2297 - val_categorical_accuracy: 0.9500 - lr: 1.6000e-06\n"
     ]
    }
   ],
   "source": [
    "history_m6 = m6_TFL.train_model(model_TFL_rnn,augment_data=True)"
   ]
  },
  {
   "cell_type": "code",
   "execution_count": null,
   "metadata": {
    "colab": {
     "base_uri": "https://localhost:8080/",
     "height": 320
    },
    "id": "geaw2cXzwV9w",
    "outputId": "9e034ccb-2cf0-432f-e190-232c0f908985"
   },
   "outputs": [
    {
     "data": {
      "image/png": "[encoded data removed]",
      "text/plain": [
       "<Figure size 720x360 with 2 Axes>"
      ]
     },
     "metadata": {
      "needs_background": "light"
     },
     "output_type": "display_data"
    }
   ],
   "source": [
    "plot(history_m6)"
   ]
  },
  {
   "cell_type": "markdown",
   "metadata": {
    "id": "g_Z2Vc4v97DF"
   },
   "source": [
    "**Observation:**\n",
    "* Transfer learning approch produced the good results.\n",
    "* Results are good at 20th epoch and the loss was not improved in later epochs.\n",
    "* Training accuracy is 0.99 and validation accuracy 0.97."
   ]
  },
  {
   "cell_type": "markdown",
   "metadata": {
    "id": "AoiR2pmZw07B"
   },
   "source": [
    "**Model Summaries**"
   ]
  },
  {
   "cell_type": "code",
   "execution_count": null,
   "metadata": {
    "id": "bmAZeHA4wtk9"
   },
   "outputs": [],
   "source": [
    "import pandas as pd\n",
    "df=pd.DataFrame({\"Experiment No\":[1,2,3,4,5,6],\"Model\":[\"Conv3D\", \"Conv3D\", \"Conv3D\", \"CNN_RNN\", \"CNN_RNN\", \"CNN_RNN_TR\"],\n",
    "                 \"Train Accuracy\":[0.97, 0.89, 0.89, 0.76, 0.91, 0.99],\"Validation Accuracy\":[0.31, 0.84, 0.29, 0.22, 0.89, 0.97],\n",
    "                 \"Observation\":[\"No image augmentation\",\"Increased dense neurons & dropout rate, used image Augmention & reduced batch\", \n",
    "                                \"Increased number of filters in all layers and increased dense neurons\",\n",
    "                                \"Used CNN with LSTM\", \"Used CNN with GRU\",\"Used InceptionV3, CNN with GRU, reduced batch & increased epoch rate\"]})"
   ]
  },
  {
   "cell_type": "code",
   "execution_count": null,
   "metadata": {
    "colab": {
     "base_uri": "https://localhost:8080/",
     "height": 238
    },
    "id": "hFHohsw1wtnN",
    "outputId": "95f4f50e-0c34-409c-ae63-aa34856a22ba"
   },
   "outputs": [
    {
     "data": {
      "text/html": [
       "<style type=\"text/css\">\n",
       "#T_56eae_row0_col4, #T_56eae_row1_col4, #T_56eae_row2_col4, #T_56eae_row3_col4, #T_56eae_row4_col4, #T_56eae_row5_col4 {\n",
       "  width: 550px;\n",
       "}\n",
       "</style>\n",
       "<table id=\"T_56eae_\" class=\"dataframe\">\n",
       "  <thead>\n",
       "    <tr>\n",
       "      <th class=\"blank level0\" >&nbsp;</th>\n",
       "      <th class=\"col_heading level0 col0\" >Experiment No</th>\n",
       "      <th class=\"col_heading level0 col1\" >Model</th>\n",
       "      <th class=\"col_heading level0 col2\" >Train Accuracy</th>\n",
       "      <th class=\"col_heading level0 col3\" >Validation Accuracy</th>\n",
       "      <th class=\"col_heading level0 col4\" >Observation</th>\n",
       "    </tr>\n",
       "  </thead>\n",
       "  <tbody>\n",
       "    <tr>\n",
       "      <th id=\"T_56eae_level0_row0\" class=\"row_heading level0 row0\" >0</th>\n",
       "      <td id=\"T_56eae_row0_col0\" class=\"data row0 col0\" >1</td>\n",
       "      <td id=\"T_56eae_row0_col1\" class=\"data row0 col1\" >Conv3D</td>\n",
       "      <td id=\"T_56eae_row0_col2\" class=\"data row0 col2\" >0.970000</td>\n",
       "      <td id=\"T_56eae_row0_col3\" class=\"data row0 col3\" >0.310000</td>\n",
       "      <td id=\"T_56eae_row0_col4\" class=\"data row0 col4\" >No image augmentation</td>\n",
       "    </tr>\n",
       "    <tr>\n",
       "      <th id=\"T_56eae_level0_row1\" class=\"row_heading level0 row1\" >1</th>\n",
       "      <td id=\"T_56eae_row1_col0\" class=\"data row1 col0\" >2</td>\n",
       "      <td id=\"T_56eae_row1_col1\" class=\"data row1 col1\" >Conv3D</td>\n",
       "      <td id=\"T_56eae_row1_col2\" class=\"data row1 col2\" >0.890000</td>\n",
       "      <td id=\"T_56eae_row1_col3\" class=\"data row1 col3\" >0.840000</td>\n",
       "      <td id=\"T_56eae_row1_col4\" class=\"data row1 col4\" >Increased dense neurons & dropout rate, used image Augmention & reduced batch</td>\n",
       "    </tr>\n",
       "    <tr>\n",
       "      <th id=\"T_56eae_level0_row2\" class=\"row_heading level0 row2\" >2</th>\n",
       "      <td id=\"T_56eae_row2_col0\" class=\"data row2 col0\" >3</td>\n",
       "      <td id=\"T_56eae_row2_col1\" class=\"data row2 col1\" >Conv3D</td>\n",
       "      <td id=\"T_56eae_row2_col2\" class=\"data row2 col2\" >0.890000</td>\n",
       "      <td id=\"T_56eae_row2_col3\" class=\"data row2 col3\" >0.290000</td>\n",
       "      <td id=\"T_56eae_row2_col4\" class=\"data row2 col4\" >Increased number of filters in all layers and increased dense neurons</td>\n",
       "    </tr>\n",
       "    <tr>\n",
       "      <th id=\"T_56eae_level0_row3\" class=\"row_heading level0 row3\" >3</th>\n",
       "      <td id=\"T_56eae_row3_col0\" class=\"data row3 col0\" >4</td>\n",
       "      <td id=\"T_56eae_row3_col1\" class=\"data row3 col1\" >CNN_RNN</td>\n",
       "      <td id=\"T_56eae_row3_col2\" class=\"data row3 col2\" >0.760000</td>\n",
       "      <td id=\"T_56eae_row3_col3\" class=\"data row3 col3\" >0.220000</td>\n",
       "      <td id=\"T_56eae_row3_col4\" class=\"data row3 col4\" >Used CNN with LSTM</td>\n",
       "    </tr>\n",
       "    <tr>\n",
       "      <th id=\"T_56eae_level0_row4\" class=\"row_heading level0 row4\" >4</th>\n",
       "      <td id=\"T_56eae_row4_col0\" class=\"data row4 col0\" >5</td>\n",
       "      <td id=\"T_56eae_row4_col1\" class=\"data row4 col1\" >CNN_RNN</td>\n",
       "      <td id=\"T_56eae_row4_col2\" class=\"data row4 col2\" >0.910000</td>\n",
       "      <td id=\"T_56eae_row4_col3\" class=\"data row4 col3\" >0.890000</td>\n",
       "      <td id=\"T_56eae_row4_col4\" class=\"data row4 col4\" >Used CNN with GRU</td>\n",
       "    </tr>\n",
       "    <tr>\n",
       "      <th id=\"T_56eae_level0_row5\" class=\"row_heading level0 row5\" >5</th>\n",
       "      <td id=\"T_56eae_row5_col0\" class=\"data row5 col0\" >6</td>\n",
       "      <td id=\"T_56eae_row5_col1\" class=\"data row5 col1\" >CNN_RNN_TR</td>\n",
       "      <td id=\"T_56eae_row5_col2\" class=\"data row5 col2\" >0.990000</td>\n",
       "      <td id=\"T_56eae_row5_col3\" class=\"data row5 col3\" >0.970000</td>\n",
       "      <td id=\"T_56eae_row5_col4\" class=\"data row5 col4\" >Used InceptionV3, CNN with GRU, reduced batch & increased epoch rate</td>\n",
       "    </tr>\n",
       "  </tbody>\n",
       "</table>\n"
      ],
      "text/plain": [
       "<pandas.io.formats.style.Styler at 0x7f2b95016410>"
      ]
     },
     "execution_count": 37,
     "metadata": {},
     "output_type": "execute_result"
    }
   ],
   "source": [
    "df.style.set_properties(subset=['Observation'], **{'width': '550px'})"
   ]
  },
  {
   "cell_type": "markdown",
   "metadata": {
    "id": "qQvOWZbPxO3G"
   },
   "source": [
    "**Load and test the final model**"
   ]
  },
  {
   "cell_type": "code",
   "execution_count": null,
   "metadata": {
    "colab": {
     "base_uri": "https://localhost:8080/"
    },
    "id": "8LN__AISwtpg",
    "outputId": "8aadc55d-a94c-4add-d0bf-05e60bf14f03"
   },
   "outputs": [
    {
     "name": "stdout",
     "output_type": "stream",
     "text": [
      "[[0. 1. 0. 0. 0.]\n",
      " [0. 0. 0. 0. 1.]\n",
      " [0. 0. 1. 0. 0.]\n",
      " [1. 0. 0. 0. 0.]\n",
      " [0. 0. 0. 0. 1.]\n",
      " [0. 1. 0. 0. 0.]\n",
      " [0. 0. 0. 0. 1.]\n",
      " [0. 0. 1. 0. 0.]\n",
      " [1. 0. 0. 0. 0.]\n",
      " [0. 0. 0. 0. 1.]]\n",
      "[1 4 2 0 4 1 4 2 0 4]\n"
     ]
    }
   ],
   "source": [
    "from keras.models import load_model\n",
    "# Load the final best model\n",
    "final_model= load_model(\"/content/model_init_2022-09-1208_55_09.835993/model-00020-0.01814-0.99472-0.08267-0.97000.h5\")\n",
    "# Create test generator\n",
    "test_generator=model6_Transfer_InceptionModel()\n",
    "test_generator._set_path(project_folder)\n",
    "test_generator._set_image_properties(image_height=128,image_width=128)\n",
    "test_generator._set_hyperparams(frames_to_sample=30,batch_size=5,num_epochs=25)\n",
    "\n",
    "g=test_generator.generator(test_generator.val_path,test_generator.val_doc,augment=True)\n",
    "batch_data, batch_labels=next(g)\n",
    "print(batch_labels)\n",
    "print(np.argmax(final_model.predict(batch_data[:,:,:,:,:]),axis=1))"
   ]
  },
  {
   "cell_type": "code",
   "execution_count": null,
   "metadata": {
    "id": "9vHrxcmHxLDd"
   },
   "outputs": [],
   "source": []
  }
 ],
 "metadata": {
  "accelerator": "GPU",
  "colab": {
   "collapsed_sections": [],
   "machine_shape": "hm",
   "provenance": []
  },
  "gpuClass": "standard",
  "kernelspec": {
   "display_name": "Python 3 (ipykernel)",
   "language": "python",
   "name": "python3"
  },
  "language_info": {
   "codemirror_mode": {
    "name": "ipython",
    "version": 3
   },
   "file_extension": ".py",
   "mimetype": "text/x-python",
   "name": "python",
   "nbconvert_exporter": "python",
   "pygments_lexer": "ipython3",
   "version": "3.8.3"
  }
 },
 "nbformat": 4,
 "nbformat_minor": 1
}
